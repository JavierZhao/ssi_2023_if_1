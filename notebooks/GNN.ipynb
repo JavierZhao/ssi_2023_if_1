{
 "cells": [
  {
   "cell_type": "code",
   "execution_count": 1,
   "id": "c9b59989",
   "metadata": {
    "ExecuteTime": {
     "end_time": "2023-08-16T16:17:32.213193Z",
     "start_time": "2023-08-16T16:17:30.772401Z"
    }
   },
   "outputs": [],
   "source": [
    "import matplotlib.pyplot as plt\n",
    "import matplotlib as mpl\n",
    "%matplotlib inline\n",
    "mpl.rcParams['figure.figsize'] = [8, 6]\n",
    "mpl.rcParams['font.size'] = 16\n",
    "mpl.rcParams['axes.grid'] = True\n",
    "\n",
    "import torch\n",
    "import torch.nn as nn\n",
    "import torch.nn.functional as F\n",
    "import tqdm\n",
    "torch.multiprocessing.set_start_method('spawn')\n",
    "device = torch.device('cuda:0' if torch.cuda.is_available() else 'cpu')\n",
    "\n",
    "\n",
    "import numpy as np\n",
    "SEED=12345\n",
    "_=np.random.seed(SEED)\n",
    "_=torch.manual_seed(SEED)\n",
    "\n",
    "import networkx as nx\n",
    "\n",
    "from iftool.image_challenge import collate\n",
    "from torch.utils.data import DataLoader\n",
    "\n",
    "from iftool.image_challenge import ParticleImage2D\n",
    "from torch_geometric.utils import from_networkx"
   ]
  },
  {
   "cell_type": "markdown",
   "id": "fe7657bb",
   "metadata": {},
   "source": [
    "## Load data"
   ]
  },
  {
   "cell_type": "code",
   "execution_count": 2,
   "id": "cc51b6f2",
   "metadata": {
    "ExecuteTime": {
     "end_time": "2023-08-16T16:18:12.583184Z",
     "start_time": "2023-08-16T16:17:55.591016Z"
    }
   },
   "outputs": [],
   "source": [
    "train_graphs = torch.load(\"/ssl-jet-vol-v2/ssi_2023_if_1/data/train_graphs_2.pt\")"
   ]
  },
  {
   "cell_type": "code",
   "execution_count": 3,
   "id": "0f6957e7",
   "metadata": {
    "ExecuteTime": {
     "end_time": "2023-08-16T16:18:18.048288Z",
     "start_time": "2023-08-16T16:18:18.043355Z"
    }
   },
   "outputs": [
    {
     "data": {
      "text/plain": [
       "40000"
      ]
     },
     "execution_count": 3,
     "metadata": {},
     "output_type": "execute_result"
    }
   ],
   "source": [
    "len(train_graphs)"
   ]
  },
  {
   "cell_type": "code",
   "execution_count": 4,
   "id": "b0b33586",
   "metadata": {
    "ExecuteTime": {
     "end_time": "2023-08-16T16:18:56.758894Z",
     "start_time": "2023-08-16T16:18:52.123332Z"
    }
   },
   "outputs": [],
   "source": [
    "import copy\n",
    "train_graphs_2 = copy.deepcopy(train_graphs)"
   ]
  },
  {
   "cell_type": "code",
   "execution_count": 5,
   "id": "aefc7684",
   "metadata": {
    "ExecuteTime": {
     "end_time": "2023-08-16T16:19:09.519409Z",
     "start_time": "2023-08-16T16:19:08.482692Z"
    }
   },
   "outputs": [],
   "source": [
    "for ele in train_graphs_2:\n",
    "    ele['feature'] = torch.cat((ele['pos'],ele['value'].unsqueeze(1)),1)"
   ]
  },
  {
   "cell_type": "code",
   "execution_count": 9,
   "id": "2621e304",
   "metadata": {
    "ExecuteTime": {
     "end_time": "2023-08-16T16:19:52.142838Z",
     "start_time": "2023-08-16T16:19:52.138238Z"
    }
   },
   "outputs": [
    {
     "data": {
      "text/plain": [
       "tensor([0.9628, 0.8023, 0.6649, 0.7892, 0.3251, 0.8524, 1.4830, 1.0133, 1.4997,\n",
       "        0.9602, 1.5116, 0.6796, 0.7355, 0.7868, 0.0714, 1.2852, 1.3699, 1.7569,\n",
       "        1.0477, 1.4280, 0.7303, 0.7371, 1.6268, 1.0722, 1.1784, 1.0313, 0.5242,\n",
       "        0.5049, 0.7870, 1.1632, 1.5814, 0.9802, 0.6228, 1.0249, 0.7819, 0.7958,\n",
       "        1.2446, 0.6710, 0.6856, 0.4553, 1.0850, 1.6697, 1.6259, 0.8590, 0.4450,\n",
       "        0.4016, 1.1119, 1.5500, 1.0051, 1.1685, 0.9726, 0.1833, 0.9611, 0.9167,\n",
       "        0.3269, 0.8207, 0.8006, 0.8187, 1.8866, 0.0529, 0.9526, 1.5750, 1.3070,\n",
       "        0.7487, 0.8135, 0.5991, 0.8314, 0.7211, 1.5039, 0.3189, 0.7763, 0.8615,\n",
       "        0.6534, 0.7259, 0.8723, 0.9773, 0.7744, 2.0512, 0.3373, 2.7716, 0.9481,\n",
       "        0.5705, 0.7127, 0.7428, 1.0449, 1.1759, 0.8223, 0.5689, 0.7686, 0.7397,\n",
       "        0.1510, 0.9984, 1.9982, 0.8302, 0.8375, 0.8088, 1.4704, 1.1399, 1.4427,\n",
       "        4.3531, 2.2879, 0.6414, 0.9365, 0.0526, 0.0768, 0.3296])"
      ]
     },
     "execution_count": 9,
     "metadata": {},
     "output_type": "execute_result"
    }
   ],
   "source": [
    "train_graphs[0].value"
   ]
  },
  {
   "cell_type": "code",
   "execution_count": 8,
   "id": "f62e0ab5",
   "metadata": {
    "ExecuteTime": {
     "end_time": "2023-08-16T16:19:42.587566Z",
     "start_time": "2023-08-16T16:19:42.580447Z"
    }
   },
   "outputs": [
    {
     "data": {
      "text/plain": [
       "tensor([[1.0400e+02, 7.7000e+01, 9.6275e-01],\n",
       "        [1.0600e+02, 7.7000e+01, 8.0231e-01],\n",
       "        [1.2000e+02, 7.6000e+01, 6.6489e-01],\n",
       "        [1.2100e+02, 7.6000e+01, 7.8918e-01],\n",
       "        [1.0000e+02, 7.6000e+01, 3.2514e-01],\n",
       "        [1.0100e+02, 7.7000e+01, 8.5245e-01],\n",
       "        [1.1500e+02, 7.6000e+01, 1.4830e+00],\n",
       "        [1.1600e+02, 7.6000e+01, 1.0133e+00],\n",
       "        [9.5000e+01, 7.6000e+01, 1.4997e+00],\n",
       "        [9.6000e+01, 7.6000e+01, 9.6021e-01],\n",
       "        [1.4300e+02, 7.7000e+01, 1.5116e+00],\n",
       "        [1.4400e+02, 7.7000e+01, 6.7965e-01],\n",
       "        [1.3200e+02, 7.6000e+01, 7.3546e-01],\n",
       "        [1.3400e+02, 7.6000e+01, 7.8682e-01],\n",
       "        [9.6000e+01, 7.7000e+01, 7.1438e-02],\n",
       "        [9.8000e+01, 7.7000e+01, 1.2852e+00],\n",
       "        [6.3000e+01, 7.7000e+01, 1.3699e+00],\n",
       "        [6.4000e+01, 7.7000e+01, 1.7569e+00],\n",
       "        [7.4000e+01, 7.6000e+01, 1.0477e+00],\n",
       "        [7.6000e+01, 7.6000e+01, 1.4280e+00],\n",
       "        [9.1000e+01, 7.6000e+01, 7.3025e-01],\n",
       "        [9.2000e+01, 7.6000e+01, 7.3709e-01],\n",
       "        [6.6000e+01, 7.7000e+01, 1.6268e+00],\n",
       "        [6.8000e+01, 7.7000e+01, 1.0722e+00],\n",
       "        [7.9000e+01, 7.6000e+01, 1.1784e+00],\n",
       "        [8.1000e+01, 7.6000e+01, 1.0313e+00],\n",
       "        [1.2900e+02, 7.6000e+01, 5.2416e-01],\n",
       "        [1.3000e+02, 7.6000e+01, 5.0486e-01],\n",
       "        [1.4500e+02, 7.7000e+01, 7.8698e-01],\n",
       "        [7.5000e+01, 7.6000e+01, 1.1632e+00],\n",
       "        [7.7000e+01, 7.6000e+01, 1.5814e+00],\n",
       "        [9.3000e+01, 7.6000e+01, 9.8024e-01],\n",
       "        [1.2600e+02, 7.5000e+01, 6.2280e-01],\n",
       "        [1.2800e+02, 7.5000e+01, 1.0249e+00],\n",
       "        [1.4000e+02, 7.7000e+01, 7.8193e-01],\n",
       "        [1.4100e+02, 7.7000e+01, 7.9584e-01],\n",
       "        [7.1000e+01, 7.6000e+01, 1.2446e+00],\n",
       "        [7.2000e+01, 7.6000e+01, 6.7095e-01],\n",
       "        [1.2200e+02, 7.6000e+01, 6.8563e-01],\n",
       "        [7.2000e+01, 7.7000e+01, 4.5532e-01],\n",
       "        [7.3000e+01, 7.7000e+01, 1.0850e+00],\n",
       "        [6.9000e+01, 7.6000e+01, 1.6697e+00],\n",
       "        [6.5000e+01, 7.7000e+01, 1.6259e+00],\n",
       "        [1.0800e+02, 7.7000e+01, 8.5896e-01],\n",
       "        [1.2300e+02, 7.5000e+01, 4.4505e-01],\n",
       "        [1.3800e+02, 7.7000e+01, 4.0158e-01],\n",
       "        [1.0200e+02, 7.7000e+01, 1.1119e+00],\n",
       "        [7.0000e+01, 7.6000e+01, 1.5500e+00],\n",
       "        [9.7000e+01, 7.7000e+01, 1.0051e+00],\n",
       "        [7.8000e+01, 7.6000e+01, 1.1685e+00],\n",
       "        [9.4000e+01, 7.6000e+01, 9.7262e-01],\n",
       "        [7.3000e+01, 7.6000e+01, 1.8335e-01],\n",
       "        [8.6000e+01, 7.6000e+01, 9.6111e-01],\n",
       "        [8.8000e+01, 7.6000e+01, 9.1670e-01],\n",
       "        [1.2300e+02, 7.6000e+01, 3.2692e-01],\n",
       "        [1.3500e+02, 7.6000e+01, 8.2072e-01],\n",
       "        [1.3700e+02, 7.6000e+01, 8.0058e-01],\n",
       "        [8.9000e+01, 7.6000e+01, 8.1873e-01],\n",
       "        [9.0000e+01, 7.6000e+01, 1.8866e+00],\n",
       "        [7.0000e+01, 7.7000e+01, 5.2900e-02],\n",
       "        [8.2000e+01, 7.6000e+01, 9.5257e-01],\n",
       "        [8.4000e+01, 7.6000e+01, 1.5750e+00],\n",
       "        [9.9000e+01, 7.7000e+01, 1.3070e+00],\n",
       "        [1.3100e+02, 7.6000e+01, 7.4871e-01],\n",
       "        [1.3300e+02, 7.6000e+01, 8.1354e-01],\n",
       "        [1.4700e+02, 7.7000e+01, 5.9913e-01],\n",
       "        [1.4700e+02, 7.8000e+01, 8.3137e-01],\n",
       "        [1.2700e+02, 7.5000e+01, 7.2109e-01],\n",
       "        [1.3600e+02, 7.6000e+01, 1.5039e+00],\n",
       "        [1.3800e+02, 7.6000e+01, 3.1887e-01],\n",
       "        [1.1800e+02, 7.6000e+01, 7.7629e-01],\n",
       "        [8.0000e+01, 7.6000e+01, 8.6146e-01],\n",
       "        [1.1900e+02, 7.6000e+01, 6.5343e-01],\n",
       "        [1.1200e+02, 7.6000e+01, 7.2588e-01],\n",
       "        [1.1400e+02, 7.6000e+01, 8.7234e-01],\n",
       "        [1.2900e+02, 7.5000e+01, 9.7733e-01],\n",
       "        [1.0900e+02, 7.7000e+01, 7.7439e-01],\n",
       "        [6.7000e+01, 7.7000e+01, 2.0512e+00],\n",
       "        [6.8000e+01, 7.6000e+01, 3.3732e-01],\n",
       "        [6.1000e+01, 7.6000e+01, 2.7716e+00],\n",
       "        [6.3000e+01, 7.6000e+01, 9.4806e-01],\n",
       "        [1.0900e+02, 7.6000e+01, 5.7049e-01],\n",
       "        [1.1000e+02, 7.6000e+01, 7.1271e-01],\n",
       "        [1.2400e+02, 7.5000e+01, 7.4283e-01],\n",
       "        [1.2500e+02, 7.5000e+01, 1.0449e+00],\n",
       "        [1.0000e+02, 7.7000e+01, 1.1759e+00],\n",
       "        [1.1300e+02, 7.6000e+01, 8.2231e-01],\n",
       "        [1.4800e+02, 7.8000e+01, 5.6885e-01],\n",
       "        [1.3900e+02, 7.7000e+01, 7.6856e-01],\n",
       "        [1.0500e+02, 7.7000e+01, 7.3973e-01],\n",
       "        [1.3000e+02, 7.5000e+01, 1.5095e-01],\n",
       "        [1.4200e+02, 7.7000e+01, 9.9839e-01],\n",
       "        [5.9000e+01, 7.6000e+01, 1.9982e+00],\n",
       "        [1.0700e+02, 7.7000e+01, 8.3017e-01],\n",
       "        [8.7000e+01, 7.6000e+01, 8.3748e-01],\n",
       "        [1.0300e+02, 7.7000e+01, 8.0879e-01],\n",
       "        [1.1100e+02, 7.6000e+01, 1.4704e+00],\n",
       "        [8.3000e+01, 7.6000e+01, 1.1399e+00],\n",
       "        [8.5000e+01, 7.6000e+01, 1.4427e+00],\n",
       "        [6.0000e+01, 7.6000e+01, 4.3531e+00],\n",
       "        [6.2000e+01, 7.6000e+01, 2.2879e+00],\n",
       "        [1.1700e+02, 7.6000e+01, 6.4137e-01],\n",
       "        [1.4600e+02, 7.7000e+01, 9.3647e-01],\n",
       "        [0.0000e+00, 7.3000e+01, 5.2580e-02],\n",
       "        [1.2000e+01, 6.4000e+01, 7.6818e-02],\n",
       "        [2.9000e+01, 9.8000e+01, 3.2965e-01]])"
      ]
     },
     "execution_count": 8,
     "metadata": {},
     "output_type": "execute_result"
    }
   ],
   "source": [
    "train_graphs_2[0].feature"
   ]
  },
  {
   "cell_type": "code",
   "execution_count": null,
   "id": "9f9a3560",
   "metadata": {},
   "outputs": [],
   "source": []
  },
  {
   "cell_type": "code",
   "execution_count": 10,
   "id": "c269566b",
   "metadata": {
    "ExecuteTime": {
     "end_time": "2023-08-16T16:20:17.473110Z",
     "start_time": "2023-08-16T16:20:17.469561Z"
    }
   },
   "outputs": [],
   "source": [
    "val_ratio = 0.1\n",
    "train_data = train_graphs_2[:int(len(train_graphs) * (1 - val_ratio))]\n",
    "val_data = train_graphs_2[int(len(train_graphs) * (1 - val_ratio)):]"
   ]
  },
  {
   "cell_type": "code",
   "execution_count": 11,
   "id": "2aa6198b",
   "metadata": {
    "ExecuteTime": {
     "end_time": "2023-08-16T16:20:18.901281Z",
     "start_time": "2023-08-16T16:20:18.898056Z"
    }
   },
   "outputs": [
    {
     "data": {
      "text/plain": [
       "36000"
      ]
     },
     "execution_count": 11,
     "metadata": {},
     "output_type": "execute_result"
    }
   ],
   "source": [
    "len(train_data)"
   ]
  },
  {
   "cell_type": "code",
   "execution_count": 12,
   "id": "6f51e0a3",
   "metadata": {
    "ExecuteTime": {
     "end_time": "2023-08-16T16:20:19.557128Z",
     "start_time": "2023-08-16T16:20:19.553962Z"
    }
   },
   "outputs": [
    {
     "data": {
      "text/plain": [
       "4000"
      ]
     },
     "execution_count": 12,
     "metadata": {},
     "output_type": "execute_result"
    }
   ],
   "source": [
    "len(val_data)"
   ]
  },
  {
   "cell_type": "code",
   "execution_count": 13,
   "id": "1d9dba5f",
   "metadata": {
    "ExecuteTime": {
     "end_time": "2023-08-16T16:20:23.954437Z",
     "start_time": "2023-08-16T16:20:23.948390Z"
    }
   },
   "outputs": [
    {
     "name": "stderr",
     "output_type": "stream",
     "text": [
      "/opt/conda/lib/python3.10/site-packages/torch_geometric/deprecation.py:22: UserWarning: 'data.DataLoader' is deprecated, use 'loader.DataLoader' instead\n",
      "  warnings.warn(out)\n"
     ]
    }
   ],
   "source": [
    "from torch_geometric.data import DataLoader\n",
    "\n",
    "# Assuming list_of_data is your loaded list of Data objects\n",
    "train_loader = DataLoader(train_data, batch_size=256, shuffle=True)\n",
    "val_loader = DataLoader(val_data, batch_size=256, shuffle=True)"
   ]
  },
  {
   "cell_type": "code",
   "execution_count": 14,
   "id": "060709ad",
   "metadata": {
    "ExecuteTime": {
     "end_time": "2023-08-16T16:20:32.619422Z",
     "start_time": "2023-08-16T16:20:32.565318Z"
    }
   },
   "outputs": [],
   "source": [
    "for batch in train_loader:\n",
    "    break"
   ]
  },
  {
   "cell_type": "code",
   "execution_count": 15,
   "id": "1b2a1daf",
   "metadata": {
    "ExecuteTime": {
     "end_time": "2023-08-16T16:20:33.401067Z",
     "start_time": "2023-08-16T16:20:33.397087Z"
    }
   },
   "outputs": [
    {
     "data": {
      "text/plain": [
       "tensor([0, 0, 0, 0, 0, 0, 3, 0, 3, 1, 1, 1, 2, 0, 0, 2, 0, 2, 3, 3, 0, 2, 3, 1,\n",
       "        1, 2, 1, 2, 2, 0, 2, 1, 3, 2, 0, 1, 3, 0, 2, 2, 1, 2, 1, 2, 0, 1, 1, 1,\n",
       "        3, 2, 1, 3, 1, 2, 1, 3, 2, 3, 2, 2, 2, 2, 3, 0, 0, 1, 2, 0, 1, 3, 0, 3,\n",
       "        0, 1, 0, 0, 2, 3, 2, 2, 0, 3, 0, 2, 2, 0, 1, 0, 2, 2, 3, 2, 0, 1, 1, 3,\n",
       "        1, 3, 1, 2, 2, 3, 1, 0, 1, 2, 1, 2, 0, 2, 3, 0, 2, 1, 0, 3, 3, 1, 2, 1,\n",
       "        1, 0, 3, 3, 3, 0, 3, 1, 2, 3, 2, 0, 0, 2, 1, 1, 0, 0, 1, 3, 3, 2, 1, 1,\n",
       "        3, 0, 0, 0, 2, 3, 2, 2, 3, 3, 0, 3, 1, 1, 2, 3, 0, 1, 0, 0, 2, 1, 2, 0,\n",
       "        2, 2, 1, 0, 2, 1, 0, 0, 1, 2, 3, 1, 1, 1, 3, 2, 1, 0, 0, 2, 3, 3, 2, 2,\n",
       "        2, 3, 2, 0, 2, 3, 0, 3, 0, 0, 1, 0, 3, 3, 0, 0, 1, 3, 1, 3, 0, 3, 2, 2,\n",
       "        1, 3, 0, 2, 2, 0, 1, 2, 3, 3, 0, 3, 3, 0, 0, 2, 1, 0, 1, 2, 3, 0, 1, 2,\n",
       "        3, 0, 1, 3, 2, 0, 0, 0, 2, 1, 2, 2, 0, 2, 1, 0])"
      ]
     },
     "execution_count": 15,
     "metadata": {},
     "output_type": "execute_result"
    }
   ],
   "source": [
    "batch.y"
   ]
  },
  {
   "cell_type": "code",
   "execution_count": 16,
   "id": "11fd77d4",
   "metadata": {
    "ExecuteTime": {
     "end_time": "2023-08-16T16:20:50.488353Z",
     "start_time": "2023-08-16T16:20:50.483330Z"
    }
   },
   "outputs": [],
   "source": [
    "from torch.nn import Linear\n",
    "import torch.nn.functional as F\n",
    "from torch_geometric.nn import GCNConv, GraphConv, GATConv\n",
    "from torch_geometric.nn import global_mean_pool\n",
    "\n",
    "class GCN(torch.nn.Module):\n",
    "    def __init__(self, hidden_channels):\n",
    "        super(GCN, self).__init__()\n",
    "        torch.manual_seed(12345)\n",
    "        self.conv1 = GCNConv(1, hidden_channels)\n",
    "        self.conv2 = GCNConv(hidden_channels, hidden_channels)\n",
    "        self.conv3 = GCNConv(hidden_channels, hidden_channels)\n",
    "        self.lin = Linear(hidden_channels, 4)\n",
    "\n",
    "    def forward(self, x, edge_index, batch):\n",
    "        # 1. Obtain node embeddings \n",
    "        x = x.reshape(-1, 1)\n",
    "        x = self.conv1(x, edge_index)\n",
    "        x = x.relu()\n",
    "        x = self.conv2(x, edge_index)\n",
    "        x = x.relu()\n",
    "        x = self.conv3(x, edge_index)\n",
    "\n",
    "        # 2. Readout layer\n",
    "        x = global_mean_pool(x, batch)  # [batch_size, hidden_channels]\n",
    "\n",
    "        # 3. Apply a final classifier\n",
    "        x = F.dropout(x, p=0.5, training=self.training)\n",
    "        x = self.lin(x)\n",
    "        \n",
    "        return x"
   ]
  },
  {
   "cell_type": "code",
   "execution_count": 48,
   "id": "4dda53b6",
   "metadata": {
    "ExecuteTime": {
     "end_time": "2023-08-16T17:44:20.121782Z",
     "start_time": "2023-08-16T17:44:20.116896Z"
    }
   },
   "outputs": [],
   "source": [
    "class GrCN(torch.nn.Module):\n",
    "    def __init__(self, hidden_channels, input_channels=1):\n",
    "        super(GrCN, self).__init__()\n",
    "        torch.manual_seed(12345)\n",
    "        self.conv1 = GraphConv(input_channels, hidden_channels)\n",
    "        self.conv2 = GraphConv(hidden_channels, hidden_channels)\n",
    "        self.conv3 = GraphConv(hidden_channels, hidden_channels)\n",
    "        self.lin = Linear(hidden_channels, 4)\n",
    "\n",
    "    def forward(self, x, edge_index, batch):\n",
    "        # 1. Obtain node embeddings \n",
    "#         x = x.reshape(-1, 1)\n",
    "        x = self.conv1(x, edge_index)\n",
    "        x = x.relu()\n",
    "        x = self.conv2(x, edge_index)\n",
    "        x = x.relu()\n",
    "        x = self.conv3(x, edge_index)\n",
    "\n",
    "        # 2. Readout layer\n",
    "        x = global_mean_pool(x, batch)  # [batch_size, hidden_channels]\n",
    "\n",
    "        # 3. Apply a final classifier\n",
    "        x = F.dropout(x, p=0.5, training=self.training)\n",
    "        x = self.lin(x)\n",
    "        \n",
    "        return x"
   ]
  },
  {
   "cell_type": "code",
   "execution_count": 35,
   "id": "acbdd326",
   "metadata": {
    "ExecuteTime": {
     "end_time": "2023-08-16T16:46:41.178953Z",
     "start_time": "2023-08-16T16:46:41.173856Z"
    }
   },
   "outputs": [],
   "source": [
    "class GATCN(torch.nn.Module):\n",
    "    def __init__(self, hidden_channels, input_channels=1):\n",
    "        super(GATCN, self).__init__()\n",
    "        torch.manual_seed(12345)\n",
    "        self.hidden_channels = hidden_channels\n",
    "        self.conv1 = GATConv(input_channels, hidden_channels, heads=1, concat=False)\n",
    "        self.conv2 = GATConv(hidden_channels, hidden_channels, heads=2, concat=False)\n",
    "        self.conv3 = GATConv(hidden_channels, hidden_channels, heads=2, concat=False)\n",
    "        self.lin = Linear(hidden_channels, 4)\n",
    "\n",
    "    def forward(self, x, edge_index, batch):\n",
    "        # 1. Obtain node embeddings \n",
    "#         x = x.reshape(-1, 1)\n",
    "        x = self.conv1(x, edge_index)\n",
    "        x = x.relu()\n",
    "#         x = self.conv2(x, edge_index).reshape(-1, self.hidden_channels*2)\n",
    "        x = self.conv2(x, edge_index)\n",
    "        x = x.relu()\n",
    "        x = self.conv3(x, edge_index)\n",
    "\n",
    "        # 2. Readout layer\n",
    "        x = global_mean_pool(x, batch)  # [batch_size, hidden_channels]\n",
    "\n",
    "        # 3. Apply a final classifier\n",
    "        x = F.dropout(x, p=0.5, training=self.training)\n",
    "        x = self.lin(x)\n",
    "        \n",
    "        return x"
   ]
  },
  {
   "cell_type": "code",
   "execution_count": 42,
   "id": "1e82cce3",
   "metadata": {
    "ExecuteTime": {
     "end_time": "2023-08-16T17:30:08.009057Z",
     "start_time": "2023-08-16T17:30:08.001754Z"
    }
   },
   "outputs": [],
   "source": [
    "class GrCN_2(torch.nn.Module):\n",
    "    def __init__(self, hidden_channels, input_channels=1):\n",
    "        super(GrCN_2, self).__init__()\n",
    "        torch.manual_seed(12345)\n",
    "        self.conv1 = GraphConv(input_channels, int(hidden_channels / 2))\n",
    "        self.conv2 = GraphConv(int(hidden_channels / 2), hidden_channels)\n",
    "        self.conv3 = GraphConv(hidden_channels, hidden_channels)\n",
    "        self.conv4 = GraphConv(hidden_channels, hidden_channels)\n",
    "        self.lin = Linear(hidden_channels, 4)\n",
    "\n",
    "    def forward(self, x, edge_index, batch):\n",
    "        # 1. Obtain node embeddings \n",
    "#         x = x.reshape(-1, 1)\n",
    "        x = self.conv1(x, edge_index)\n",
    "        x = x.relu()\n",
    "        x = self.conv2(x, edge_index)\n",
    "        x = x.relu()\n",
    "        x = self.conv3(x, edge_index)\n",
    "        x = x.relu()\n",
    "        x = self.conv4(x, edge_index)\n",
    "\n",
    "        # 2. Readout layer\n",
    "        x = global_mean_pool(x, batch)  # [batch_size, hidden_channels]\n",
    "\n",
    "        # 3. Apply a final classifier\n",
    "        x = F.dropout(x, p=0.5, training=self.training)\n",
    "        x = self.lin(x)\n",
    "        \n",
    "        return x"
   ]
  },
  {
   "cell_type": "code",
   "execution_count": 36,
   "id": "dab3b646",
   "metadata": {
    "ExecuteTime": {
     "end_time": "2023-08-16T16:46:44.577175Z",
     "start_time": "2023-08-16T16:46:44.510100Z"
    }
   },
   "outputs": [
    {
     "data": {
      "text/plain": [
       "<All keys matched successfully>"
      ]
     },
     "execution_count": 36,
     "metadata": {},
     "output_type": "execute_result"
    }
   ],
   "source": [
    "import os\n",
    "input_channels = 3\n",
    "model = GATCN(hidden_channels=128, input_channels=input_channels).to(device)\n",
    "prev_label = \"GATConv_w_pos\"\n",
    "model_loc = f\"/ssl-jet-vol-v2/ssi_2023_if_1/models/trained_models/GNN_{prev_label}_best.pth\"\n",
    "trained_model_dict = torch.load(model_loc)\n",
    "model.load_state_dict(trained_model_dict)"
   ]
  },
  {
   "cell_type": "code",
   "execution_count": 49,
   "id": "140047f2",
   "metadata": {
    "ExecuteTime": {
     "end_time": "2023-08-16T17:51:53.155628Z",
     "start_time": "2023-08-16T17:45:19.902879Z"
    }
   },
   "outputs": [
    {
     "name": "stderr",
     "output_type": "stream",
     "text": [
      "Training loss: 0.7347: : 141it [00:03, 35.42it/s]                                                                                      \n"
     ]
    },
    {
     "name": "stdout",
     "output_type": "stream",
     "text": [
      "Epoch [1/50], Train Loss: 26.0986 \n"
     ]
    },
    {
     "name": "stderr",
     "output_type": "stream",
     "text": [
      "Validation loss: 0.6587: : 16it [00:00, 33.40it/s]                                                                                     \n"
     ]
    },
    {
     "name": "stdout",
     "output_type": "stream",
     "text": [
      "val accuracy: 0.699\n",
      "Epoch [1/50], Val Loss: 0.6580 \n",
      "new best model\n"
     ]
    },
    {
     "name": "stderr",
     "output_type": "stream",
     "text": [
      "Training loss: 0.8250: : 141it [00:03, 36.24it/s]                                                                                      \n"
     ]
    },
    {
     "name": "stdout",
     "output_type": "stream",
     "text": [
      "Epoch [2/50], Train Loss: 0.7844 \n"
     ]
    },
    {
     "name": "stderr",
     "output_type": "stream",
     "text": [
      "Validation loss: 0.6916: : 16it [00:00, 37.62it/s]                                                                                     \n"
     ]
    },
    {
     "name": "stdout",
     "output_type": "stream",
     "text": [
      "val accuracy: 0.73225\n",
      "Epoch [2/50], Val Loss: 0.6167 \n",
      "new best model\n"
     ]
    },
    {
     "name": "stderr",
     "output_type": "stream",
     "text": [
      "Training loss: 0.6974: : 141it [00:04, 33.95it/s]                                                                                      \n"
     ]
    },
    {
     "name": "stdout",
     "output_type": "stream",
     "text": [
      "Epoch [3/50], Train Loss: 0.6901 \n"
     ]
    },
    {
     "name": "stderr",
     "output_type": "stream",
     "text": [
      "Validation loss: 0.5605: : 16it [00:00, 41.90it/s]                                                                                     \n"
     ]
    },
    {
     "name": "stdout",
     "output_type": "stream",
     "text": [
      "val accuracy: 0.7465\n",
      "Epoch [3/50], Val Loss: 0.5701 \n",
      "new best model\n"
     ]
    },
    {
     "name": "stderr",
     "output_type": "stream",
     "text": [
      "Training loss: 0.6268: : 141it [00:04, 33.24it/s]                                                                                      \n"
     ]
    },
    {
     "name": "stdout",
     "output_type": "stream",
     "text": [
      "Epoch [4/50], Train Loss: 0.6422 \n"
     ]
    },
    {
     "name": "stderr",
     "output_type": "stream",
     "text": [
      "Validation loss: 0.4788: : 16it [00:00, 31.52it/s]                                                                                     \n"
     ]
    },
    {
     "name": "stdout",
     "output_type": "stream",
     "text": [
      "val accuracy: 0.747\n",
      "Epoch [4/50], Val Loss: 0.5539 \n",
      "new best model\n"
     ]
    },
    {
     "name": "stderr",
     "output_type": "stream",
     "text": [
      "Training loss: 0.6254: : 141it [00:04, 33.20it/s]                                                                                      \n"
     ]
    },
    {
     "name": "stdout",
     "output_type": "stream",
     "text": [
      "Epoch [5/50], Train Loss: 0.5840 \n"
     ]
    },
    {
     "name": "stderr",
     "output_type": "stream",
     "text": [
      "Validation loss: 0.4459: : 16it [00:00, 56.21it/s]                                                                                     \n"
     ]
    },
    {
     "name": "stdout",
     "output_type": "stream",
     "text": [
      "val accuracy: 0.76725\n",
      "Epoch [5/50], Val Loss: 0.4525 \n",
      "new best model\n"
     ]
    },
    {
     "name": "stderr",
     "output_type": "stream",
     "text": [
      "Training loss: 0.4222: : 141it [00:04, 33.71it/s]                                                                                      \n"
     ]
    },
    {
     "name": "stdout",
     "output_type": "stream",
     "text": [
      "Epoch [6/50], Train Loss: 0.5446 \n"
     ]
    },
    {
     "name": "stderr",
     "output_type": "stream",
     "text": [
      "Validation loss: 0.3748: : 16it [00:00, 45.95it/s]                                                                                     \n"
     ]
    },
    {
     "name": "stdout",
     "output_type": "stream",
     "text": [
      "val accuracy: 0.78475\n",
      "Epoch [6/50], Val Loss: 0.4441 \n",
      "new best model\n"
     ]
    },
    {
     "name": "stderr",
     "output_type": "stream",
     "text": [
      "Training loss: 0.4575: : 141it [00:04, 35.14it/s]                                                                                      \n"
     ]
    },
    {
     "name": "stdout",
     "output_type": "stream",
     "text": [
      "Epoch [7/50], Train Loss: 0.4921 \n"
     ]
    },
    {
     "name": "stderr",
     "output_type": "stream",
     "text": [
      "Validation loss: 0.4807: : 16it [00:00, 35.53it/s]                                                                                     \n"
     ]
    },
    {
     "name": "stdout",
     "output_type": "stream",
     "text": [
      "val accuracy: 0.76\n",
      "Epoch [7/50], Val Loss: 0.4674 \n"
     ]
    },
    {
     "name": "stderr",
     "output_type": "stream",
     "text": [
      "Training loss: 0.4591: : 141it [00:04, 34.09it/s]                                                                                      \n"
     ]
    },
    {
     "name": "stdout",
     "output_type": "stream",
     "text": [
      "Epoch [8/50], Train Loss: 0.4631 \n"
     ]
    },
    {
     "name": "stderr",
     "output_type": "stream",
     "text": [
      "Validation loss: 0.3684: : 16it [00:00, 44.99it/s]                                                                                     \n"
     ]
    },
    {
     "name": "stdout",
     "output_type": "stream",
     "text": [
      "val accuracy: 0.806\n",
      "Epoch [8/50], Val Loss: 0.3822 \n",
      "new best model\n"
     ]
    },
    {
     "name": "stderr",
     "output_type": "stream",
     "text": [
      "Training loss: 0.5171: : 141it [00:04, 33.92it/s]                                                                                      \n"
     ]
    },
    {
     "name": "stdout",
     "output_type": "stream",
     "text": [
      "Epoch [9/50], Train Loss: 0.4655 \n"
     ]
    },
    {
     "name": "stderr",
     "output_type": "stream",
     "text": [
      "Validation loss: 0.3156: : 16it [00:00, 33.62it/s]                                                                                     \n"
     ]
    },
    {
     "name": "stdout",
     "output_type": "stream",
     "text": [
      "val accuracy: 0.7875\n",
      "Epoch [9/50], Val Loss: 0.4073 \n"
     ]
    },
    {
     "name": "stderr",
     "output_type": "stream",
     "text": [
      "Training loss: 0.4182: : 141it [00:04, 34.06it/s]                                                                                      \n"
     ]
    },
    {
     "name": "stdout",
     "output_type": "stream",
     "text": [
      "Epoch [10/50], Train Loss: 0.4464 \n"
     ]
    },
    {
     "name": "stderr",
     "output_type": "stream",
     "text": [
      "Validation loss: 0.3639: : 16it [00:00, 33.34it/s]                                                                                     \n"
     ]
    },
    {
     "name": "stdout",
     "output_type": "stream",
     "text": [
      "val accuracy: 0.77\n",
      "Epoch [10/50], Val Loss: 0.4156 \n"
     ]
    },
    {
     "name": "stderr",
     "output_type": "stream",
     "text": [
      "Training loss: 0.5759: : 141it [00:04, 34.12it/s]                                                                                      \n"
     ]
    },
    {
     "name": "stdout",
     "output_type": "stream",
     "text": [
      "Epoch [11/50], Train Loss: 0.4557 \n"
     ]
    },
    {
     "name": "stderr",
     "output_type": "stream",
     "text": [
      "Validation loss: 0.3739: : 16it [00:00, 34.51it/s]                                                                                     \n"
     ]
    },
    {
     "name": "stdout",
     "output_type": "stream",
     "text": [
      "val accuracy: 0.787\n",
      "Epoch [11/50], Val Loss: 0.4129 \n"
     ]
    },
    {
     "name": "stderr",
     "output_type": "stream",
     "text": [
      "Training loss: 0.4419: : 141it [00:04, 33.27it/s]                                                                                      \n"
     ]
    },
    {
     "name": "stdout",
     "output_type": "stream",
     "text": [
      "Epoch [12/50], Train Loss: 0.4497 \n"
     ]
    },
    {
     "name": "stderr",
     "output_type": "stream",
     "text": [
      "Validation loss: 0.3946: : 16it [00:00, 35.44it/s]                                                                                     \n"
     ]
    },
    {
     "name": "stdout",
     "output_type": "stream",
     "text": [
      "val accuracy: 0.81625\n",
      "Epoch [12/50], Val Loss: 0.3888 \n",
      "new best model\n"
     ]
    },
    {
     "name": "stderr",
     "output_type": "stream",
     "text": [
      "Training loss: 0.4003: : 141it [00:04, 34.33it/s]                                                                                      \n"
     ]
    },
    {
     "name": "stdout",
     "output_type": "stream",
     "text": [
      "Epoch [13/50], Train Loss: 0.4226 \n"
     ]
    },
    {
     "name": "stderr",
     "output_type": "stream",
     "text": [
      "Validation loss: 0.3466: : 16it [00:00, 38.82it/s]                                                                                     \n"
     ]
    },
    {
     "name": "stdout",
     "output_type": "stream",
     "text": [
      "val accuracy: 0.80225\n",
      "Epoch [13/50], Val Loss: 0.3641 \n"
     ]
    },
    {
     "name": "stderr",
     "output_type": "stream",
     "text": [
      "Training loss: 0.3737: : 141it [00:04, 31.58it/s]                                                                                      \n"
     ]
    },
    {
     "name": "stdout",
     "output_type": "stream",
     "text": [
      "Epoch [14/50], Train Loss: 0.4018 \n"
     ]
    },
    {
     "name": "stderr",
     "output_type": "stream",
     "text": [
      "Validation loss: 0.3848: : 16it [00:00, 58.16it/s]                                                                                     \n"
     ]
    },
    {
     "name": "stdout",
     "output_type": "stream",
     "text": [
      "val accuracy: 0.79725\n",
      "Epoch [14/50], Val Loss: 0.3719 \n"
     ]
    },
    {
     "name": "stderr",
     "output_type": "stream",
     "text": [
      "Training loss: 0.3335: : 141it [00:04, 32.80it/s]                                                                                      \n"
     ]
    },
    {
     "name": "stdout",
     "output_type": "stream",
     "text": [
      "Epoch [15/50], Train Loss: 0.3885 \n"
     ]
    },
    {
     "name": "stderr",
     "output_type": "stream",
     "text": [
      "Validation loss: 0.3751: : 16it [00:00, 41.57it/s]                                                                                     \n"
     ]
    },
    {
     "name": "stdout",
     "output_type": "stream",
     "text": [
      "val accuracy: 0.79025\n",
      "Epoch [15/50], Val Loss: 0.3708 \n"
     ]
    },
    {
     "name": "stderr",
     "output_type": "stream",
     "text": [
      "Training loss: 0.4047: : 141it [00:04, 33.04it/s]                                                                                      \n"
     ]
    },
    {
     "name": "stdout",
     "output_type": "stream",
     "text": [
      "Epoch [16/50], Train Loss: 0.4050 \n"
     ]
    },
    {
     "name": "stderr",
     "output_type": "stream",
     "text": [
      "Validation loss: 0.3657: : 16it [00:00, 39.60it/s]                                                                                     \n"
     ]
    },
    {
     "name": "stdout",
     "output_type": "stream",
     "text": [
      "val accuracy: 0.82775\n",
      "Epoch [16/50], Val Loss: 0.3425 \n",
      "new best model\n"
     ]
    },
    {
     "name": "stderr",
     "output_type": "stream",
     "text": [
      "Training loss: 0.3976: : 141it [00:04, 32.77it/s]                                                                                      \n"
     ]
    },
    {
     "name": "stdout",
     "output_type": "stream",
     "text": [
      "Epoch [17/50], Train Loss: 0.3872 \n"
     ]
    },
    {
     "name": "stderr",
     "output_type": "stream",
     "text": [
      "Validation loss: 0.3513: : 16it [00:00, 55.57it/s]                                                                                     \n"
     ]
    },
    {
     "name": "stdout",
     "output_type": "stream",
     "text": [
      "val accuracy: 0.79725\n",
      "Epoch [17/50], Val Loss: 0.3648 \n"
     ]
    },
    {
     "name": "stderr",
     "output_type": "stream",
     "text": [
      "Training loss: 0.3956: : 141it [00:04, 33.99it/s]                                                                                      \n"
     ]
    },
    {
     "name": "stdout",
     "output_type": "stream",
     "text": [
      "Epoch [18/50], Train Loss: 0.3809 \n"
     ]
    },
    {
     "name": "stderr",
     "output_type": "stream",
     "text": [
      "Validation loss: 0.3432: : 16it [00:00, 35.96it/s]                                                                                     \n"
     ]
    },
    {
     "name": "stdout",
     "output_type": "stream",
     "text": [
      "val accuracy: 0.821\n",
      "Epoch [18/50], Val Loss: 0.3640 \n"
     ]
    },
    {
     "name": "stderr",
     "output_type": "stream",
     "text": [
      "Training loss: 0.3667: : 141it [00:04, 35.23it/s]                                                                                      \n"
     ]
    },
    {
     "name": "stdout",
     "output_type": "stream",
     "text": [
      "Epoch [19/50], Train Loss: 0.3755 \n"
     ]
    },
    {
     "name": "stderr",
     "output_type": "stream",
     "text": [
      "Validation loss: 0.3476: : 16it [00:00, 44.81it/s]                                                                                     \n"
     ]
    },
    {
     "name": "stdout",
     "output_type": "stream",
     "text": [
      "val accuracy: 0.80425\n",
      "Epoch [19/50], Val Loss: 0.3604 \n"
     ]
    },
    {
     "name": "stderr",
     "output_type": "stream",
     "text": [
      "Training loss: 0.3392: : 141it [00:04, 34.65it/s]                                                                                      \n"
     ]
    },
    {
     "name": "stdout",
     "output_type": "stream",
     "text": [
      "Epoch [20/50], Train Loss: 0.4023 \n"
     ]
    },
    {
     "name": "stderr",
     "output_type": "stream",
     "text": [
      "Validation loss: 0.5287: : 16it [00:00, 34.98it/s]                                                                                     \n"
     ]
    },
    {
     "name": "stdout",
     "output_type": "stream",
     "text": [
      "val accuracy: 0.79675\n",
      "Epoch [20/50], Val Loss: 0.4290 \n"
     ]
    },
    {
     "name": "stderr",
     "output_type": "stream",
     "text": [
      "Training loss: 0.3497: : 141it [00:04, 34.66it/s]                                                                                      \n"
     ]
    },
    {
     "name": "stdout",
     "output_type": "stream",
     "text": [
      "Epoch [21/50], Train Loss: 0.3740 \n"
     ]
    },
    {
     "name": "stderr",
     "output_type": "stream",
     "text": [
      "Validation loss: 0.3011: : 16it [00:00, 35.96it/s]                                                                                     \n"
     ]
    },
    {
     "name": "stdout",
     "output_type": "stream",
     "text": [
      "val accuracy: 0.80975\n",
      "Epoch [21/50], Val Loss: 0.3543 \n"
     ]
    },
    {
     "name": "stderr",
     "output_type": "stream",
     "text": [
      "Training loss: 0.4609: : 141it [00:04, 34.86it/s]                                                                                      \n"
     ]
    },
    {
     "name": "stdout",
     "output_type": "stream",
     "text": [
      "Epoch [22/50], Train Loss: 0.3656 \n"
     ]
    },
    {
     "name": "stderr",
     "output_type": "stream",
     "text": [
      "Validation loss: 0.3793: : 16it [00:00, 46.06it/s]                                                                                     \n"
     ]
    },
    {
     "name": "stdout",
     "output_type": "stream",
     "text": [
      "val accuracy: 0.785\n",
      "Epoch [22/50], Val Loss: 0.4137 \n"
     ]
    },
    {
     "name": "stderr",
     "output_type": "stream",
     "text": [
      "Training loss: 0.3031: : 141it [00:04, 32.45it/s]                                                                                      \n"
     ]
    },
    {
     "name": "stdout",
     "output_type": "stream",
     "text": [
      "Epoch [23/50], Train Loss: 0.3685 \n"
     ]
    },
    {
     "name": "stderr",
     "output_type": "stream",
     "text": [
      "Validation loss: 0.4447: : 16it [00:00, 55.98it/s]                                                                                     \n"
     ]
    },
    {
     "name": "stdout",
     "output_type": "stream",
     "text": [
      "val accuracy: 0.813\n",
      "Epoch [23/50], Val Loss: 0.3503 \n"
     ]
    },
    {
     "name": "stderr",
     "output_type": "stream",
     "text": [
      "Training loss: 0.3809: : 141it [00:04, 35.20it/s]                                                                                      \n"
     ]
    },
    {
     "name": "stdout",
     "output_type": "stream",
     "text": [
      "Epoch [24/50], Train Loss: 0.3620 \n"
     ]
    },
    {
     "name": "stderr",
     "output_type": "stream",
     "text": [
      "Validation loss: 0.3815: : 16it [00:00, 36.50it/s]                                                                                     \n"
     ]
    },
    {
     "name": "stdout",
     "output_type": "stream",
     "text": [
      "val accuracy: 0.838\n",
      "Epoch [24/50], Val Loss: 0.3385 \n",
      "new best model\n"
     ]
    },
    {
     "name": "stderr",
     "output_type": "stream",
     "text": [
      "Training loss: 0.4222: : 141it [00:04, 34.46it/s]                                                                                      \n"
     ]
    },
    {
     "name": "stdout",
     "output_type": "stream",
     "text": [
      "Epoch [25/50], Train Loss: 0.3630 \n"
     ]
    },
    {
     "name": "stderr",
     "output_type": "stream",
     "text": [
      "Validation loss: 0.3588: : 16it [00:00, 36.71it/s]                                                                                     \n"
     ]
    },
    {
     "name": "stdout",
     "output_type": "stream",
     "text": [
      "val accuracy: 0.822\n",
      "Epoch [25/50], Val Loss: 0.3481 \n"
     ]
    },
    {
     "name": "stderr",
     "output_type": "stream",
     "text": [
      "Training loss: 0.4039: : 141it [00:04, 35.09it/s]                                                                                      \n"
     ]
    },
    {
     "name": "stdout",
     "output_type": "stream",
     "text": [
      "Epoch [26/50], Train Loss: 0.3600 \n"
     ]
    },
    {
     "name": "stderr",
     "output_type": "stream",
     "text": [
      "Validation loss: 0.3383: : 16it [00:00, 33.84it/s]                                                                                     \n"
     ]
    },
    {
     "name": "stdout",
     "output_type": "stream",
     "text": [
      "val accuracy: 0.81775\n",
      "Epoch [26/50], Val Loss: 0.3502 \n"
     ]
    },
    {
     "name": "stderr",
     "output_type": "stream",
     "text": [
      "Training loss: 0.3877: : 141it [00:04, 33.07it/s]                                                                                      \n"
     ]
    },
    {
     "name": "stdout",
     "output_type": "stream",
     "text": [
      "Epoch [27/50], Train Loss: 0.3682 \n"
     ]
    },
    {
     "name": "stderr",
     "output_type": "stream",
     "text": [
      "Validation loss: 0.4791: : 16it [00:00, 59.78it/s]                                                                                     \n"
     ]
    },
    {
     "name": "stdout",
     "output_type": "stream",
     "text": [
      "val accuracy: 0.80625\n",
      "Epoch [27/50], Val Loss: 0.3671 \n"
     ]
    },
    {
     "name": "stderr",
     "output_type": "stream",
     "text": [
      "Training loss: 0.3396: : 141it [00:04, 35.22it/s]                                                                                      \n"
     ]
    },
    {
     "name": "stdout",
     "output_type": "stream",
     "text": [
      "Epoch [28/50], Train Loss: 0.3582 \n"
     ]
    },
    {
     "name": "stderr",
     "output_type": "stream",
     "text": [
      "Validation loss: 0.3351: : 16it [00:00, 36.52it/s]                                                                                     \n"
     ]
    },
    {
     "name": "stdout",
     "output_type": "stream",
     "text": [
      "val accuracy: 0.83425\n",
      "Epoch [28/50], Val Loss: 0.3362 \n"
     ]
    },
    {
     "name": "stderr",
     "output_type": "stream",
     "text": [
      "Training loss: 0.3807: : 141it [00:04, 34.42it/s]                                                                                      \n"
     ]
    },
    {
     "name": "stdout",
     "output_type": "stream",
     "text": [
      "Epoch [29/50], Train Loss: 0.3602 \n"
     ]
    },
    {
     "name": "stderr",
     "output_type": "stream",
     "text": [
      "Validation loss: 0.2861: : 16it [00:00, 45.72it/s]                                                                                     \n"
     ]
    },
    {
     "name": "stdout",
     "output_type": "stream",
     "text": [
      "val accuracy: 0.8315\n",
      "Epoch [29/50], Val Loss: 0.3392 \n"
     ]
    },
    {
     "name": "stderr",
     "output_type": "stream",
     "text": [
      "Training loss: 0.3240: : 141it [00:04, 33.88it/s]                                                                                      \n"
     ]
    },
    {
     "name": "stdout",
     "output_type": "stream",
     "text": [
      "Epoch [30/50], Train Loss: 0.3573 \n"
     ]
    },
    {
     "name": "stderr",
     "output_type": "stream",
     "text": [
      "Validation loss: 0.3615: : 16it [00:00, 44.00it/s]                                                                                     \n"
     ]
    },
    {
     "name": "stdout",
     "output_type": "stream",
     "text": [
      "val accuracy: 0.82175\n",
      "Epoch [30/50], Val Loss: 0.3405 \n"
     ]
    },
    {
     "name": "stderr",
     "output_type": "stream",
     "text": [
      "Training loss: 0.3576: : 141it [00:04, 34.32it/s]                                                                                      \n"
     ]
    },
    {
     "name": "stdout",
     "output_type": "stream",
     "text": [
      "Epoch [31/50], Train Loss: 0.3629 \n"
     ]
    },
    {
     "name": "stderr",
     "output_type": "stream",
     "text": [
      "Validation loss: 0.2710: : 16it [00:00, 35.84it/s]                                                                                     \n"
     ]
    },
    {
     "name": "stdout",
     "output_type": "stream",
     "text": [
      "val accuracy: 0.84325\n",
      "Epoch [31/50], Val Loss: 0.3234 \n",
      "new best model\n"
     ]
    },
    {
     "name": "stderr",
     "output_type": "stream",
     "text": [
      "Training loss: 0.3182: : 141it [00:04, 34.73it/s]                                                                                      \n"
     ]
    },
    {
     "name": "stdout",
     "output_type": "stream",
     "text": [
      "Epoch [32/50], Train Loss: 0.3589 \n"
     ]
    },
    {
     "name": "stderr",
     "output_type": "stream",
     "text": [
      "Validation loss: 0.3536: : 16it [00:00, 36.24it/s]                                                                                     \n"
     ]
    },
    {
     "name": "stdout",
     "output_type": "stream",
     "text": [
      "val accuracy: 0.80225\n",
      "Epoch [32/50], Val Loss: 0.3792 \n"
     ]
    },
    {
     "name": "stderr",
     "output_type": "stream",
     "text": [
      "Training loss: 0.6086: : 141it [00:04, 35.08it/s]                                                                                      \n"
     ]
    },
    {
     "name": "stdout",
     "output_type": "stream",
     "text": [
      "Epoch [33/50], Train Loss: 0.3539 \n"
     ]
    },
    {
     "name": "stderr",
     "output_type": "stream",
     "text": [
      "Validation loss: 0.3755: : 16it [00:00, 37.84it/s]                                                                                     \n"
     ]
    },
    {
     "name": "stdout",
     "output_type": "stream",
     "text": [
      "val accuracy: 0.83625\n",
      "Epoch [33/50], Val Loss: 0.3370 \n"
     ]
    },
    {
     "name": "stderr",
     "output_type": "stream",
     "text": [
      "Training loss: 0.4267: : 141it [00:04, 33.96it/s]                                                                                      \n"
     ]
    },
    {
     "name": "stdout",
     "output_type": "stream",
     "text": [
      "Epoch [34/50], Train Loss: 0.3764 \n"
     ]
    },
    {
     "name": "stderr",
     "output_type": "stream",
     "text": [
      "Validation loss: 0.3939: : 16it [00:00, 43.37it/s]                                                                                     \n"
     ]
    },
    {
     "name": "stdout",
     "output_type": "stream",
     "text": [
      "val accuracy: 0.8265\n",
      "Epoch [34/50], Val Loss: 0.3444 \n"
     ]
    },
    {
     "name": "stderr",
     "output_type": "stream",
     "text": [
      "Training loss: 0.3427: : 141it [00:04, 34.42it/s]                                                                                      \n"
     ]
    },
    {
     "name": "stdout",
     "output_type": "stream",
     "text": [
      "Epoch [35/50], Train Loss: 0.3528 \n"
     ]
    },
    {
     "name": "stderr",
     "output_type": "stream",
     "text": [
      "Validation loss: 0.2462: : 16it [00:00, 46.23it/s]                                                                                     \n"
     ]
    },
    {
     "name": "stdout",
     "output_type": "stream",
     "text": [
      "val accuracy: 0.842\n",
      "Epoch [35/50], Val Loss: 0.3220 \n"
     ]
    },
    {
     "name": "stderr",
     "output_type": "stream",
     "text": [
      "Training loss: 0.3232: : 141it [00:04, 34.66it/s]                                                                                      \n"
     ]
    },
    {
     "name": "stdout",
     "output_type": "stream",
     "text": [
      "Epoch [36/50], Train Loss: 0.3441 \n"
     ]
    },
    {
     "name": "stderr",
     "output_type": "stream",
     "text": [
      "Validation loss: 0.2594: : 16it [00:00, 45.31it/s]                                                                                     \n"
     ]
    },
    {
     "name": "stdout",
     "output_type": "stream",
     "text": [
      "val accuracy: 0.84025\n",
      "Epoch [36/50], Val Loss: 0.3290 \n"
     ]
    },
    {
     "name": "stderr",
     "output_type": "stream",
     "text": [
      "Training loss: 0.3777: : 141it [00:04, 34.78it/s]                                                                                      \n"
     ]
    },
    {
     "name": "stdout",
     "output_type": "stream",
     "text": [
      "Epoch [37/50], Train Loss: 0.3543 \n"
     ]
    },
    {
     "name": "stderr",
     "output_type": "stream",
     "text": [
      "Validation loss: 0.2802: : 16it [00:00, 36.76it/s]                                                                                     \n"
     ]
    },
    {
     "name": "stdout",
     "output_type": "stream",
     "text": [
      "val accuracy: 0.831\n",
      "Epoch [37/50], Val Loss: 0.3298 \n"
     ]
    },
    {
     "name": "stderr",
     "output_type": "stream",
     "text": [
      "Training loss: 0.3291: : 141it [00:04, 33.46it/s]                                                                                      \n"
     ]
    },
    {
     "name": "stdout",
     "output_type": "stream",
     "text": [
      "Epoch [38/50], Train Loss: 0.3483 \n"
     ]
    },
    {
     "name": "stderr",
     "output_type": "stream",
     "text": [
      "Validation loss: 0.2931: : 16it [00:00, 60.19it/s]                                                                                     \n"
     ]
    },
    {
     "name": "stdout",
     "output_type": "stream",
     "text": [
      "val accuracy: 0.82525\n",
      "Epoch [38/50], Val Loss: 0.3323 \n"
     ]
    },
    {
     "name": "stderr",
     "output_type": "stream",
     "text": [
      "Training loss: 0.2681: : 141it [00:04, 33.23it/s]                                                                                      \n"
     ]
    },
    {
     "name": "stdout",
     "output_type": "stream",
     "text": [
      "Epoch [39/50], Train Loss: 0.3648 \n"
     ]
    },
    {
     "name": "stderr",
     "output_type": "stream",
     "text": [
      "Validation loss: 0.2993: : 16it [00:00, 57.42it/s]                                                                                     \n"
     ]
    },
    {
     "name": "stdout",
     "output_type": "stream",
     "text": [
      "val accuracy: 0.82\n",
      "Epoch [39/50], Val Loss: 0.3357 \n"
     ]
    },
    {
     "name": "stderr",
     "output_type": "stream",
     "text": [
      "Training loss: 0.3924: : 141it [00:04, 34.80it/s]                                                                                      \n"
     ]
    },
    {
     "name": "stdout",
     "output_type": "stream",
     "text": [
      "Epoch [40/50], Train Loss: 0.3546 \n"
     ]
    },
    {
     "name": "stderr",
     "output_type": "stream",
     "text": [
      "Validation loss: 0.2705: : 16it [00:00, 35.42it/s]                                                                                     \n"
     ]
    },
    {
     "name": "stdout",
     "output_type": "stream",
     "text": [
      "val accuracy: 0.84175\n",
      "Epoch [40/50], Val Loss: 0.3241 \n"
     ]
    },
    {
     "name": "stderr",
     "output_type": "stream",
     "text": [
      "Training loss: 0.3301: : 141it [00:04, 32.97it/s]                                                                                      \n"
     ]
    },
    {
     "name": "stdout",
     "output_type": "stream",
     "text": [
      "Epoch [41/50], Train Loss: 0.3521 \n"
     ]
    },
    {
     "name": "stderr",
     "output_type": "stream",
     "text": [
      "Validation loss: 0.2967: : 16it [00:00, 59.73it/s]                                                                                     \n"
     ]
    },
    {
     "name": "stdout",
     "output_type": "stream",
     "text": [
      "val accuracy: 0.8305\n",
      "Epoch [41/50], Val Loss: 0.3310 \n"
     ]
    },
    {
     "name": "stderr",
     "output_type": "stream",
     "text": [
      "Training loss: 0.3590: : 141it [00:04, 34.19it/s]                                                                                      \n"
     ]
    },
    {
     "name": "stdout",
     "output_type": "stream",
     "text": [
      "Epoch [42/50], Train Loss: 0.3499 \n"
     ]
    },
    {
     "name": "stderr",
     "output_type": "stream",
     "text": [
      "Validation loss: 0.3092: : 16it [00:00, 43.51it/s]                                                                                     \n"
     ]
    },
    {
     "name": "stdout",
     "output_type": "stream",
     "text": [
      "val accuracy: 0.84675\n",
      "Epoch [42/50], Val Loss: 0.3121 \n",
      "new best model\n"
     ]
    },
    {
     "name": "stderr",
     "output_type": "stream",
     "text": [
      "Training loss: 0.3116: : 141it [00:04, 33.71it/s]                                                                                      \n"
     ]
    },
    {
     "name": "stdout",
     "output_type": "stream",
     "text": [
      "Epoch [43/50], Train Loss: 0.3365 \n"
     ]
    },
    {
     "name": "stderr",
     "output_type": "stream",
     "text": [
      "Validation loss: 0.3473: : 16it [00:00, 46.00it/s]                                                                                     \n"
     ]
    },
    {
     "name": "stdout",
     "output_type": "stream",
     "text": [
      "val accuracy: 0.84525\n",
      "Epoch [43/50], Val Loss: 0.3215 \n"
     ]
    },
    {
     "name": "stderr",
     "output_type": "stream",
     "text": [
      "Training loss: 0.3836: : 141it [00:04, 34.36it/s]                                                                                      \n"
     ]
    },
    {
     "name": "stdout",
     "output_type": "stream",
     "text": [
      "Epoch [44/50], Train Loss: 0.3438 \n"
     ]
    },
    {
     "name": "stderr",
     "output_type": "stream",
     "text": [
      "Validation loss: 0.2824: : 16it [00:00, 44.96it/s]                                                                                     \n"
     ]
    },
    {
     "name": "stdout",
     "output_type": "stream",
     "text": [
      "val accuracy: 0.8295\n",
      "Epoch [44/50], Val Loss: 0.3378 \n"
     ]
    },
    {
     "name": "stderr",
     "output_type": "stream",
     "text": [
      "Training loss: 0.3505: : 141it [00:04, 32.37it/s]                                                                                      \n"
     ]
    },
    {
     "name": "stdout",
     "output_type": "stream",
     "text": [
      "Epoch [45/50], Train Loss: 0.3517 \n"
     ]
    },
    {
     "name": "stderr",
     "output_type": "stream",
     "text": [
      "Validation loss: 0.3649: : 16it [00:00, 58.67it/s]                                                                                     \n"
     ]
    },
    {
     "name": "stdout",
     "output_type": "stream",
     "text": [
      "val accuracy: 0.81775\n",
      "Epoch [45/50], Val Loss: 0.3421 \n"
     ]
    },
    {
     "name": "stderr",
     "output_type": "stream",
     "text": [
      "Training loss: 0.3375: : 141it [00:04, 35.09it/s]                                                                                      \n"
     ]
    },
    {
     "name": "stdout",
     "output_type": "stream",
     "text": [
      "Epoch [46/50], Train Loss: 0.3518 \n"
     ]
    },
    {
     "name": "stderr",
     "output_type": "stream",
     "text": [
      "Validation loss: 0.3069: : 16it [00:00, 45.02it/s]                                                                                     \n"
     ]
    },
    {
     "name": "stdout",
     "output_type": "stream",
     "text": [
      "val accuracy: 0.83975\n",
      "Epoch [46/50], Val Loss: 0.3161 \n"
     ]
    },
    {
     "name": "stderr",
     "output_type": "stream",
     "text": [
      "Training loss: 0.3415: : 141it [00:04, 35.18it/s]                                                                                      \n"
     ]
    },
    {
     "name": "stdout",
     "output_type": "stream",
     "text": [
      "Epoch [47/50], Train Loss: 0.3406 \n"
     ]
    },
    {
     "name": "stderr",
     "output_type": "stream",
     "text": [
      "Validation loss: 0.3509: : 16it [00:00, 46.27it/s]                                                                                     \n"
     ]
    },
    {
     "name": "stdout",
     "output_type": "stream",
     "text": [
      "val accuracy: 0.83725\n",
      "Epoch [47/50], Val Loss: 0.3216 \n"
     ]
    },
    {
     "name": "stderr",
     "output_type": "stream",
     "text": [
      "Training loss: 0.3548: : 141it [00:04, 34.44it/s]                                                                                      \n"
     ]
    },
    {
     "name": "stdout",
     "output_type": "stream",
     "text": [
      "Epoch [48/50], Train Loss: 0.3407 \n"
     ]
    },
    {
     "name": "stderr",
     "output_type": "stream",
     "text": [
      "Validation loss: 0.2928: : 16it [00:00, 40.51it/s]                                                                                     \n"
     ]
    },
    {
     "name": "stdout",
     "output_type": "stream",
     "text": [
      "val accuracy: 0.84825\n",
      "Epoch [48/50], Val Loss: 0.3153 \n",
      "new best model\n"
     ]
    },
    {
     "name": "stderr",
     "output_type": "stream",
     "text": [
      "Training loss: 0.3221: : 141it [00:04, 34.14it/s]                                                                                      \n"
     ]
    },
    {
     "name": "stdout",
     "output_type": "stream",
     "text": [
      "Epoch [49/50], Train Loss: 0.3528 \n"
     ]
    },
    {
     "name": "stderr",
     "output_type": "stream",
     "text": [
      "Validation loss: 0.3080: : 16it [00:00, 59.85it/s]                                                                                     \n"
     ]
    },
    {
     "name": "stdout",
     "output_type": "stream",
     "text": [
      "val accuracy: 0.836\n",
      "Epoch [49/50], Val Loss: 0.3229 \n"
     ]
    },
    {
     "name": "stderr",
     "output_type": "stream",
     "text": [
      "Training loss: 0.3710: : 141it [00:04, 33.58it/s]                                                                                      \n"
     ]
    },
    {
     "name": "stdout",
     "output_type": "stream",
     "text": [
      "Epoch [50/50], Train Loss: 0.3388 \n"
     ]
    },
    {
     "name": "stderr",
     "output_type": "stream",
     "text": [
      "Validation loss: 0.2856: : 16it [00:00, 59.99it/s]                                                                                     \n"
     ]
    },
    {
     "name": "stdout",
     "output_type": "stream",
     "text": [
      "val accuracy: 0.82225\n",
      "Epoch [50/50], Val Loss: 0.3322 \n"
     ]
    }
   ],
   "source": [
    "input_channels = 3\n",
    "model = GrCN(hidden_channels=128, input_channels=input_channels).to(device)\n",
    "optimizer = torch.optim.Adam(model.parameters(), lr=0.001)\n",
    "criterion = torch.nn.CrossEntropyLoss()\n",
    "\n",
    "batch_size=256\n",
    "label = \"GraphConv_w_pos\"\n",
    "outdir = \"/ssl-jet-vol-v2/ssi_2023_if_1/models\"\n",
    "model_loc = f\"{outdir}/trained_models\"\n",
    "model_perf_loc = f\"{outdir}/model_performances/{label}\"\n",
    "\n",
    "os.system(\n",
    "        f\"mkdir -p {model_loc} {model_perf_loc}\"\n",
    "    )  # -p: create parent dirs if needed, exist_ok\n",
    "\n",
    "train_its = int(len(train_data) / batch_size)\n",
    "val_its = int(len(val_data) / batch_size)\n",
    "\n",
    "train_losses = []\n",
    "val_losses = []\n",
    "val_accs = []\n",
    "val_acc_best = 0\n",
    "epochs = 50\n",
    "\n",
    "for epoch in range(epochs):\n",
    "    l_train_epoch = []\n",
    "    l_val_epoch = []\n",
    "    model.train()\n",
    "    pbar = tqdm.tqdm(train_loader, total=train_its)\n",
    "    for _, bb in enumerate(pbar):\n",
    "        bb.to(device)\n",
    "        out = model(bb.feature, bb.edge_index, bb.batch)  # Perform a single forward pass.\n",
    "        loss = criterion(out, bb.y)\n",
    "\n",
    "        optimizer.zero_grad()\n",
    "        loss.backward()\n",
    "        optimizer.step()\n",
    "        loss = loss.detach().cpu().item()\n",
    "        l_train_epoch.append(loss)\n",
    "        pbar.set_description(f\"Training loss: {loss:.4f}\")\n",
    "\n",
    "    l_train = np.mean(l_train_epoch)\n",
    "    train_losses.append(l_train)\n",
    "    print(f\"Epoch [{epoch+1}/{epochs}], Train Loss: {l_train:.4f} \")\n",
    "\n",
    "    model.eval()\n",
    "    with torch.no_grad():\n",
    "        correct = 0\n",
    "        total = 0\n",
    "        pbar = tqdm.tqdm(val_loader, total=val_its)\n",
    "        for i, bb in enumerate(pbar):\n",
    "            bb.to(device)\n",
    "            out = model(bb.feature, bb.edge_index, bb.batch)  # Perform a single forward pass.\n",
    "            loss = criterion(out, bb.y)\n",
    "            \n",
    "            \n",
    "            labels = bb.y\n",
    "            loss = loss.detach().cpu().item()\n",
    "            l_val_epoch.append(loss)\n",
    "            pbar.set_description(f\"Validation loss: {loss:.4f}\")\n",
    "            _, predicted = torch.max(out.data, 1)\n",
    "            total += labels.size(0)\n",
    "            correct += (predicted == labels).sum().item()\n",
    "            \n",
    "\n",
    "    val_acc = correct / total\n",
    "    print(f\"val accuracy: {val_acc}\")\n",
    "    val_accs.append(val_acc)\n",
    "\n",
    "    l_val = np.mean(l_val_epoch)\n",
    "    print(f\"Epoch [{epoch+1}/{epochs}], Val Loss: {l_val:.4f} \")\n",
    "    if val_acc > val_acc_best:\n",
    "        val_acc_best = val_acc\n",
    "        print(\"new best model\")\n",
    "        torch.save(model.state_dict(), f\"{model_loc}/GNN_{label}_best.pth\")\n",
    "    torch.save(model.state_dict(), f\"{model_loc}/GNN_{label}_last.pth\")\n",
    "    val_losses.append(l_val)\n",
    "\n"
   ]
  },
  {
   "cell_type": "code",
   "execution_count": 38,
   "id": "f42cd57a",
   "metadata": {
    "ExecuteTime": {
     "end_time": "2023-08-15T23:05:41.114937Z",
     "start_time": "2023-08-15T23:05:41.109565Z"
    }
   },
   "outputs": [],
   "source": [
    "def count_parameters(model):\n",
    "    return sum(p.numel() for p in model.parameters() if p.requires_grad)\n"
   ]
  },
  {
   "cell_type": "code",
   "execution_count": 39,
   "id": "8ed162a4",
   "metadata": {
    "ExecuteTime": {
     "end_time": "2023-08-15T23:05:42.421241Z",
     "start_time": "2023-08-15T23:05:42.404984Z"
    }
   },
   "outputs": [],
   "source": [
    "gcn = GCN(hidden_channels=128).to(device)\n",
    "grcn = GrCN(hidden_channels=128).to(device)"
   ]
  },
  {
   "cell_type": "code",
   "execution_count": 46,
   "id": "62cb8751",
   "metadata": {
    "ExecuteTime": {
     "end_time": "2023-08-15T23:09:12.337726Z",
     "start_time": "2023-08-15T23:09:12.329077Z"
    }
   },
   "outputs": [],
   "source": [
    "gatcn = GATCN(hidden_channels=128).to(device)"
   ]
  },
  {
   "cell_type": "code",
   "execution_count": 61,
   "id": "97ee613e",
   "metadata": {
    "ExecuteTime": {
     "end_time": "2023-08-15T23:34:20.885013Z",
     "start_time": "2023-08-15T23:34:19.219365Z"
    }
   },
   "outputs": [],
   "source": [
    "from src.models.CNN_dropout import CNN_dropout\n",
    "cnn = CNN_dropout().to(device=device)"
   ]
  },
  {
   "cell_type": "code",
   "execution_count": 69,
   "id": "e113c6cd",
   "metadata": {
    "ExecuteTime": {
     "end_time": "2023-08-15T23:37:55.507907Z",
     "start_time": "2023-08-15T23:37:55.497349Z"
    }
   },
   "outputs": [],
   "source": [
    "grcn2 = GrCN_2(hidden_channels=256).to(device)"
   ]
  },
  {
   "cell_type": "code",
   "execution_count": 70,
   "id": "50694aab",
   "metadata": {
    "ExecuteTime": {
     "end_time": "2023-08-15T23:38:20.502951Z",
     "start_time": "2023-08-15T23:38:20.499207Z"
    }
   },
   "outputs": [
    {
     "name": "stdout",
     "output_type": "stream",
     "text": [
      "The GCN model has 33,796 trainable parameters.\n",
      "The GrCN model has 66,692 trainable parameters.\n",
      "The GATCN model has 68,100 trainable parameters.\n",
      "The CNN model has 37,976,650 trainable parameters.\n",
      "The large GrCN model has 329,860 trainable parameters.\n"
     ]
    }
   ],
   "source": [
    "print(f\"The GCN model has {count_parameters(gcn):,} trainable parameters.\")\n",
    "print(f\"The GrCN model has {count_parameters(grcn):,} trainable parameters.\")\n",
    "print(f\"The GATCN model has {count_parameters(gatcn):,} trainable parameters.\")\n",
    "print(f\"The CNN model has {count_parameters(cnn):,} trainable parameters.\")\n",
    "print(f\"The large GrCN model has {count_parameters(grcn2):,} trainable parameters.\")"
   ]
  },
  {
   "cell_type": "code",
   "execution_count": 44,
   "id": "9d099ac1",
   "metadata": {
    "ExecuteTime": {
     "end_time": "2023-08-16T17:41:54.561511Z",
     "start_time": "2023-08-16T17:41:53.277204Z"
    }
   },
   "outputs": [],
   "source": [
    "# after training, save the losses and accuracies\n",
    "np.save(f\"{model_perf_loc}/train_losses.npy\", np.array(train_losses))\n",
    "np.save(f\"{model_perf_loc}/val_losses.npy\", np.array(val_losses))\n",
    "np.save(f\"{model_perf_loc}/val_accs.npy\", np.array(val_accs))"
   ]
  },
  {
   "cell_type": "code",
   "execution_count": 73,
   "id": "53e48c55",
   "metadata": {
    "ExecuteTime": {
     "end_time": "2023-08-15T23:50:45.610008Z",
     "start_time": "2023-08-15T23:50:45.604945Z"
    }
   },
   "outputs": [
    {
     "data": {
      "text/plain": [
       "34"
      ]
     },
     "execution_count": 73,
     "metadata": {},
     "output_type": "execute_result"
    }
   ],
   "source": [
    "np.argmax(val_accs)"
   ]
  },
  {
   "cell_type": "code",
   "execution_count": 50,
   "id": "37b9e99f",
   "metadata": {
    "ExecuteTime": {
     "end_time": "2023-08-16T17:52:37.695252Z",
     "start_time": "2023-08-16T17:52:37.092923Z"
    }
   },
   "outputs": [
    {
     "data": {
      "image/png": "[encoded data removed]",
      "text/plain": [
       "<Figure size 800x600 with 1 Axes>"
      ]
     },
     "metadata": {},
     "output_type": "display_data"
    }
   ],
   "source": [
    "plt.plot(train_losses)\n",
    "plt.plot(val_losses)\n",
    "plt.plot(val_accs)\n",
    "plt.legend([\"train loss\", \"val loss\", \"val accuracy\"])\n",
    "plt.title(label)\n",
    "# plt.semilogy()\n",
    "plt.savefig(f\"{label}_losses\")"
   ]
  },
  {
   "cell_type": "code",
   "execution_count": 46,
   "id": "414aac14",
   "metadata": {
    "ExecuteTime": {
     "end_time": "2023-08-16T17:42:23.674297Z",
     "start_time": "2023-08-16T17:42:16.886811Z"
    }
   },
   "outputs": [
    {
     "data": {
      "image/png": "[encoded data removed]",
      "text/plain": [
       "<Figure size 800x600 with 1 Axes>"
      ]
     },
     "metadata": {},
     "output_type": "display_data"
    }
   ],
   "source": [
    "plt.plot(train_losses)\n",
    "plt.plot(val_losses)\n",
    "plt.plot(val_accs)\n",
    "plt.legend([\"train loss\", \"val loss\", \"val accuracy\"])\n",
    "plt.title(label)\n",
    "plt.semilogy()\n",
    "plt.savefig(f\"{label}_losses\")"
   ]
  },
  {
   "cell_type": "code",
   "execution_count": 51,
   "id": "1eaf432c",
   "metadata": {
    "ExecuteTime": {
     "end_time": "2023-08-16T17:52:51.951520Z",
     "start_time": "2023-08-16T17:52:51.779866Z"
    }
   },
   "outputs": [
    {
     "data": {
      "text/plain": [
       "Text(0.5, 1.0, 'GraphConv_w_pos')"
      ]
     },
     "execution_count": 51,
     "metadata": {},
     "output_type": "execute_result"
    },
    {
     "data": {
      "image/png": "[encoded data removed]",
      "text/plain": [
       "<Figure size 800x600 with 1 Axes>"
      ]
     },
     "metadata": {},
     "output_type": "display_data"
    }
   ],
   "source": [
    "# plt.plot(train_losses)\n",
    "plt.plot(val_losses)\n",
    "plt.plot(val_accs)\n",
    "plt.legend([\"val loss\", \"val accuracy\"])\n",
    "plt.title(label)\n",
    "# plt.semilogy()\n",
    "# plt.savefig(f\"{label}_losses\")"
   ]
  },
  {
   "cell_type": "code",
   "execution_count": 75,
   "id": "e812154f",
   "metadata": {
    "ExecuteTime": {
     "end_time": "2023-08-15T23:52:06.427815Z",
     "start_time": "2023-08-15T23:52:06.288178Z"
    }
   },
   "outputs": [
    {
     "data": {
      "text/plain": [
       "[<matplotlib.lines.Line2D at 0x7f10781ad9f0>]"
      ]
     },
     "execution_count": 75,
     "metadata": {},
     "output_type": "execute_result"
    },
    {
     "data": {
      "image/png": "[encoded data removed]",
      "text/plain": [
       "<Figure size 800x600 with 1 Axes>"
      ]
     },
     "metadata": {},
     "output_type": "display_data"
    }
   ],
   "source": [
    "plt.plot(val_accs)"
   ]
  },
  {
   "cell_type": "code",
   "execution_count": null,
   "id": "595e1a91",
   "metadata": {},
   "outputs": [],
   "source": []
  }
 ],
 "metadata": {
  "kernelspec": {
   "display_name": "Python 3 (ipykernel)",
   "language": "python",
   "name": "python3"
  },
  "language_info": {
   "codemirror_mode": {
    "name": "ipython",
    "version": 3
   },
   "file_extension": ".py",
   "mimetype": "text/x-python",
   "name": "python",
   "nbconvert_exporter": "python",
   "pygments_lexer": "ipython3",
   "version": "3.10.6"
  }
 },
 "nbformat": 4,
 "nbformat_minor": 5
}
