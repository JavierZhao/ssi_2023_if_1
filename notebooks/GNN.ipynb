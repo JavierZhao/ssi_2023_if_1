{
 "cells": [
  {
   "cell_type": "code",
   "execution_count": 1,
   "id": "c9b59989",
   "metadata": {
    "ExecuteTime": {
     "end_time": "2023-08-15T22:03:10.456437Z",
     "start_time": "2023-08-15T22:03:09.116080Z"
    }
   },
   "outputs": [],
   "source": [
    "import matplotlib.pyplot as plt\n",
    "import matplotlib as mpl\n",
    "%matplotlib inline\n",
    "mpl.rcParams['figure.figsize'] = [8, 6]\n",
    "mpl.rcParams['font.size'] = 16\n",
    "mpl.rcParams['axes.grid'] = True\n",
    "\n",
    "import torch\n",
    "import torch.nn as nn\n",
    "import torch.nn.functional as F\n",
    "import tqdm\n",
    "torch.multiprocessing.set_start_method('spawn')\n",
    "device = torch.device('cuda:0' if torch.cuda.is_available() else 'cpu')\n",
    "\n",
    "\n",
    "import numpy as np\n",
    "SEED=12345\n",
    "_=np.random.seed(SEED)\n",
    "_=torch.manual_seed(SEED)\n",
    "\n",
    "import networkx as nx\n",
    "\n",
    "from iftool.image_challenge import collate\n",
    "from torch.utils.data import DataLoader\n",
    "\n",
    "from iftool.image_challenge import ParticleImage2D\n",
    "from torch_geometric.utils import from_networkx"
   ]
  },
  {
   "cell_type": "markdown",
   "id": "fe7657bb",
   "metadata": {},
   "source": [
    "## Load data"
   ]
  },
  {
   "cell_type": "code",
   "execution_count": 4,
   "id": "cc51b6f2",
   "metadata": {
    "ExecuteTime": {
     "end_time": "2023-08-15T22:03:50.231979Z",
     "start_time": "2023-08-15T22:03:27.659085Z"
    }
   },
   "outputs": [],
   "source": [
    "train_graphs = torch.load(\"/ssl-jet-vol-v2/ssi_2023_if_1/data/train_graphs_2.pt\")"
   ]
  },
  {
   "cell_type": "code",
   "execution_count": 5,
   "id": "0f6957e7",
   "metadata": {
    "ExecuteTime": {
     "end_time": "2023-08-15T22:03:52.882296Z",
     "start_time": "2023-08-15T22:03:52.877725Z"
    }
   },
   "outputs": [
    {
     "data": {
      "text/plain": [
       "40000"
      ]
     },
     "execution_count": 5,
     "metadata": {},
     "output_type": "execute_result"
    }
   ],
   "source": [
    "len(train_graphs)"
   ]
  },
  {
   "cell_type": "code",
   "execution_count": 12,
   "id": "558aa757",
   "metadata": {
    "ExecuteTime": {
     "end_time": "2023-08-15T22:11:55.307723Z",
     "start_time": "2023-08-15T22:11:22.417544Z"
    }
   },
   "outputs": [],
   "source": [
    "test_graphs = torch.load(\"/ssl-jet-vol-v2/ssi_2023_if_1/data/test_graphs_2.pt\")"
   ]
  },
  {
   "cell_type": "code",
   "execution_count": 13,
   "id": "b7b2fa68",
   "metadata": {
    "ExecuteTime": {
     "end_time": "2023-08-15T22:11:58.813238Z",
     "start_time": "2023-08-15T22:11:58.809330Z"
    }
   },
   "outputs": [
    {
     "data": {
      "text/plain": [
       "100000"
      ]
     },
     "execution_count": 13,
     "metadata": {},
     "output_type": "execute_result"
    }
   ],
   "source": [
    "len(test_graphs)"
   ]
  },
  {
   "cell_type": "code",
   "execution_count": 17,
   "id": "c269566b",
   "metadata": {
    "ExecuteTime": {
     "end_time": "2023-08-15T22:15:46.656751Z",
     "start_time": "2023-08-15T22:15:46.653281Z"
    }
   },
   "outputs": [],
   "source": [
    "val_ratio = 0.1\n",
    "train_data = train_graphs[:int(len(train_graphs) * (1 - val_ratio))]\n",
    "val_data = train_graphs[int(len(train_graphs) * (1 - val_ratio)):]"
   ]
  },
  {
   "cell_type": "code",
   "execution_count": 18,
   "id": "2aa6198b",
   "metadata": {
    "ExecuteTime": {
     "end_time": "2023-08-15T22:15:49.049384Z",
     "start_time": "2023-08-15T22:15:49.046274Z"
    }
   },
   "outputs": [
    {
     "data": {
      "text/plain": [
       "36000"
      ]
     },
     "execution_count": 18,
     "metadata": {},
     "output_type": "execute_result"
    }
   ],
   "source": [
    "len(train_data)"
   ]
  },
  {
   "cell_type": "code",
   "execution_count": 19,
   "id": "6f51e0a3",
   "metadata": {
    "ExecuteTime": {
     "end_time": "2023-08-15T22:15:49.943653Z",
     "start_time": "2023-08-15T22:15:49.940580Z"
    }
   },
   "outputs": [
    {
     "data": {
      "text/plain": [
       "4000"
      ]
     },
     "execution_count": 19,
     "metadata": {},
     "output_type": "execute_result"
    }
   ],
   "source": [
    "len(val_data)"
   ]
  },
  {
   "cell_type": "code",
   "execution_count": 20,
   "id": "1d9dba5f",
   "metadata": {
    "ExecuteTime": {
     "end_time": "2023-08-15T22:16:13.702359Z",
     "start_time": "2023-08-15T22:16:13.699545Z"
    }
   },
   "outputs": [],
   "source": [
    "from torch_geometric.data import DataLoader\n",
    "\n",
    "# Assuming list_of_data is your loaded list of Data objects\n",
    "train_loader = DataLoader(train_data, batch_size=256, shuffle=True)\n",
    "val_loader = DataLoader(val_data, batch_size=256, shuffle=True)"
   ]
  },
  {
   "cell_type": "code",
   "execution_count": 7,
   "id": "060709ad",
   "metadata": {
    "ExecuteTime": {
     "end_time": "2023-08-15T22:04:57.112398Z",
     "start_time": "2023-08-15T22:04:56.961454Z"
    }
   },
   "outputs": [],
   "source": [
    "for batch in train_loader:\n",
    "    break"
   ]
  },
  {
   "cell_type": "code",
   "execution_count": 22,
   "id": "1b2a1daf",
   "metadata": {
    "ExecuteTime": {
     "end_time": "2023-08-15T22:23:26.845314Z",
     "start_time": "2023-08-15T22:23:26.839221Z"
    }
   },
   "outputs": [
    {
     "data": {
      "text/plain": [
       "tensor([0, 2, 3, 1, 2, 0, 1, 2, 0, 2, 2, 2, 2, 1, 2, 1, 3, 1, 0, 2, 3, 1, 1, 1,\n",
       "        3, 2, 1, 3, 2, 3, 1, 0, 3, 3, 3, 1, 0, 1, 1, 3, 1, 1, 0, 1, 1, 1, 0, 3,\n",
       "        3, 0, 1, 0, 1, 0, 3, 0, 2, 3, 0, 3, 3, 0, 1, 3, 0, 1, 1, 1, 2, 2, 0, 0,\n",
       "        2, 3, 2, 0, 3, 2, 3, 1, 2, 2, 0, 3, 2, 0, 3, 1, 2, 1, 1, 0, 1, 2, 1, 1,\n",
       "        1, 3, 0, 1, 2, 0, 2, 3, 2, 1, 2, 3, 1, 1, 0, 2, 3, 0, 0, 1, 0, 2, 0, 1,\n",
       "        3, 3, 1, 1, 0, 0, 2, 1, 2, 2, 1, 3, 1, 1, 2, 1, 3, 3, 1, 2, 3, 0, 1, 1,\n",
       "        1, 2, 2, 2, 0, 0, 3, 0, 2, 2, 1, 0, 0, 0, 0, 0, 0, 3, 3, 0, 1, 0, 0, 0,\n",
       "        2, 2, 1, 3, 3, 2, 3, 2, 0, 0, 1, 2, 2, 2, 3, 2, 0, 2, 0, 3, 3, 2, 2, 0,\n",
       "        3, 3, 0, 2, 1, 2, 0, 2, 3, 1, 0, 2, 1, 3, 0, 0, 1, 0, 3, 0, 1, 2, 1, 0,\n",
       "        1, 3, 1, 3, 3, 0, 2, 0, 1, 0, 2, 2, 0, 3, 1, 0, 1, 1, 2, 1, 1, 0, 3, 3,\n",
       "        2, 0, 0, 3, 0, 1, 2, 1, 3, 2, 3, 0, 2, 2, 0, 0])"
      ]
     },
     "execution_count": 22,
     "metadata": {},
     "output_type": "execute_result"
    }
   ],
   "source": [
    "batch.y"
   ]
  },
  {
   "cell_type": "code",
   "execution_count": 36,
   "id": "11fd77d4",
   "metadata": {
    "ExecuteTime": {
     "end_time": "2023-08-15T23:04:46.574400Z",
     "start_time": "2023-08-15T23:04:46.569149Z"
    }
   },
   "outputs": [],
   "source": [
    "class GCN(torch.nn.Module):\n",
    "    def __init__(self, hidden_channels):\n",
    "        super(GCN, self).__init__()\n",
    "        torch.manual_seed(12345)\n",
    "        self.conv1 = GCNConv(1, hidden_channels)\n",
    "        self.conv2 = GCNConv(hidden_channels, hidden_channels)\n",
    "        self.conv3 = GCNConv(hidden_channels, hidden_channels)\n",
    "        self.lin = Linear(hidden_channels, 4)\n",
    "\n",
    "    def forward(self, x, edge_index, batch):\n",
    "        # 1. Obtain node embeddings \n",
    "        x = x.reshape(-1, 1)\n",
    "        x = self.conv1(x, edge_index)\n",
    "        x = x.relu()\n",
    "        x = self.conv2(x, edge_index)\n",
    "        x = x.relu()\n",
    "        x = self.conv3(x, edge_index)\n",
    "\n",
    "        # 2. Readout layer\n",
    "        x = global_mean_pool(x, batch)  # [batch_size, hidden_channels]\n",
    "\n",
    "        # 3. Apply a final classifier\n",
    "        x = F.dropout(x, p=0.5, training=self.training)\n",
    "        x = self.lin(x)\n",
    "        \n",
    "        return x"
   ]
  },
  {
   "cell_type": "code",
   "execution_count": 44,
   "id": "4dda53b6",
   "metadata": {
    "ExecuteTime": {
     "end_time": "2023-08-15T23:09:07.546022Z",
     "start_time": "2023-08-15T23:09:07.538892Z"
    }
   },
   "outputs": [],
   "source": [
    "from torch.nn import Linear\n",
    "import torch.nn.functional as F\n",
    "from torch_geometric.nn import GCNConv, GraphConv, GATConv\n",
    "from torch_geometric.nn import global_mean_pool\n",
    "\n",
    "\n",
    "class GrCN(torch.nn.Module):\n",
    "    def __init__(self, hidden_channels):\n",
    "        super(GrCN, self).__init__()\n",
    "        torch.manual_seed(12345)\n",
    "        self.conv1 = GraphConv(1, hidden_channels)\n",
    "        self.conv2 = GraphConv(hidden_channels, hidden_channels)\n",
    "        self.conv3 = GraphConv(hidden_channels, hidden_channels)\n",
    "        self.lin = Linear(hidden_channels, 4)\n",
    "\n",
    "    def forward(self, x, edge_index, batch):\n",
    "        # 1. Obtain node embeddings \n",
    "        x = x.reshape(-1, 1)\n",
    "        x = self.conv1(x, edge_index)\n",
    "        x = x.relu()\n",
    "        x = self.conv2(x, edge_index)\n",
    "        x = x.relu()\n",
    "        x = self.conv3(x, edge_index)\n",
    "\n",
    "        # 2. Readout layer\n",
    "        x = global_mean_pool(x, batch)  # [batch_size, hidden_channels]\n",
    "\n",
    "        # 3. Apply a final classifier\n",
    "        x = F.dropout(x, p=0.5, training=self.training)\n",
    "        x = self.lin(x)\n",
    "        \n",
    "        return x"
   ]
  },
  {
   "cell_type": "code",
   "execution_count": 55,
   "id": "acbdd326",
   "metadata": {
    "ExecuteTime": {
     "end_time": "2023-08-15T23:13:49.737468Z",
     "start_time": "2023-08-15T23:13:49.732059Z"
    }
   },
   "outputs": [],
   "source": [
    "class GATCN(torch.nn.Module):\n",
    "    def __init__(self, hidden_channels):\n",
    "        super(GATCN, self).__init__()\n",
    "        torch.manual_seed(12345)\n",
    "        self.hidden_channels = hidden_channels\n",
    "        self.conv1 = GATConv(1, hidden_channels, heads=1, concat=False)\n",
    "        self.conv2 = GATConv(hidden_channels, hidden_channels, heads=2, concat=False)\n",
    "        self.conv3 = GATConv(hidden_channels, hidden_channels, heads=2, concat=False)\n",
    "        self.lin = Linear(hidden_channels, 4)\n",
    "\n",
    "    def forward(self, x, edge_index, batch):\n",
    "        # 1. Obtain node embeddings \n",
    "        x = x.reshape(-1, 1)\n",
    "        x = self.conv1(x, edge_index)\n",
    "        x = x.relu()\n",
    "#         x = self.conv2(x, edge_index).reshape(-1, self.hidden_channels*2)\n",
    "        x = self.conv2(x, edge_index)\n",
    "        x = x.relu()\n",
    "        x = self.conv3(x, edge_index)\n",
    "\n",
    "        # 2. Readout layer\n",
    "        x = global_mean_pool(x, batch)  # [batch_size, hidden_channels]\n",
    "\n",
    "        # 3. Apply a final classifier\n",
    "        x = F.dropout(x, p=0.5, training=self.training)\n",
    "        x = self.lin(x)\n",
    "        \n",
    "        return x"
   ]
  },
  {
   "cell_type": "code",
   "execution_count": 68,
   "id": "1e82cce3",
   "metadata": {
    "ExecuteTime": {
     "end_time": "2023-08-15T23:37:37.618286Z",
     "start_time": "2023-08-15T23:37:37.611190Z"
    }
   },
   "outputs": [],
   "source": [
    "class GrCN_2(torch.nn.Module):\n",
    "    def __init__(self, hidden_channels):\n",
    "        super(GrCN_2, self).__init__()\n",
    "        torch.manual_seed(12345)\n",
    "        self.conv1 = GraphConv(1, int(hidden_channels / 2))\n",
    "        self.conv2 = GraphConv(int(hidden_channels / 2), hidden_channels)\n",
    "        self.conv3 = GraphConv(hidden_channels, hidden_channels)\n",
    "        self.conv4 = GraphConv(hidden_channels, hidden_channels)\n",
    "        self.lin = Linear(hidden_channels, 4)\n",
    "\n",
    "    def forward(self, x, edge_index, batch):\n",
    "        # 1. Obtain node embeddings \n",
    "        x = x.reshape(-1, 1)\n",
    "        x = self.conv1(x, edge_index)\n",
    "        x = x.relu()\n",
    "        x = self.conv2(x, edge_index)\n",
    "        x = x.relu()\n",
    "        x = self.conv3(x, edge_index)\n",
    "        x = x.relu()\n",
    "        x = self.conv4(x, edge_index)\n",
    "\n",
    "        # 2. Readout layer\n",
    "        x = global_mean_pool(x, batch)  # [batch_size, hidden_channels]\n",
    "\n",
    "        # 3. Apply a final classifier\n",
    "        x = F.dropout(x, p=0.5, training=self.training)\n",
    "        x = self.lin(x)\n",
    "        \n",
    "        return x"
   ]
  },
  {
   "cell_type": "code",
   "execution_count": 71,
   "id": "140047f2",
   "metadata": {
    "ExecuteTime": {
     "end_time": "2023-08-15T23:50:29.101689Z",
     "start_time": "2023-08-15T23:38:49.877366Z"
    }
   },
   "outputs": [
    {
     "name": "stderr",
     "output_type": "stream",
     "text": [
      "Training loss: 0.3560:  39%|████████████████████████████▌                                            | 141/360 [00:08<00:13, 16.33it/s]\n"
     ]
    },
    {
     "name": "stdout",
     "output_type": "stream",
     "text": [
      "Epoch [1/50], Train Loss: 11.1132 \n"
     ]
    },
    {
     "name": "stderr",
     "output_type": "stream",
     "text": [
      "Validation loss: 0.4070:  40%|█████████████████████████████▏                                           | 16/40 [00:00<00:00, 28.24it/s]\n"
     ]
    },
    {
     "name": "stdout",
     "output_type": "stream",
     "text": [
      "val accuracy: 0.81075\n",
      "Epoch [1/50], Val Loss: 0.3804 \n",
      "new best model\n"
     ]
    },
    {
     "name": "stderr",
     "output_type": "stream",
     "text": [
      "Training loss: 0.3825:  39%|████████████████████████████▌                                            | 141/360 [00:08<00:13, 16.08it/s]\n"
     ]
    },
    {
     "name": "stdout",
     "output_type": "stream",
     "text": [
      "Epoch [2/50], Train Loss: 0.3974 \n"
     ]
    },
    {
     "name": "stderr",
     "output_type": "stream",
     "text": [
      "Validation loss: 0.3242:  40%|█████████████████████████████▏                                           | 16/40 [00:00<00:00, 29.29it/s]\n"
     ]
    },
    {
     "name": "stdout",
     "output_type": "stream",
     "text": [
      "val accuracy: 0.84425\n",
      "Epoch [2/50], Val Loss: 0.3469 \n",
      "new best model\n"
     ]
    },
    {
     "name": "stderr",
     "output_type": "stream",
     "text": [
      "Training loss: 0.3752:  39%|████████████████████████████▌                                            | 141/360 [00:08<00:13, 15.99it/s]\n"
     ]
    },
    {
     "name": "stdout",
     "output_type": "stream",
     "text": [
      "Epoch [3/50], Train Loss: 0.3725 \n"
     ]
    },
    {
     "name": "stderr",
     "output_type": "stream",
     "text": [
      "Validation loss: 0.3407:  40%|█████████████████████████████▏                                           | 16/40 [00:00<00:00, 29.03it/s]\n"
     ]
    },
    {
     "name": "stdout",
     "output_type": "stream",
     "text": [
      "val accuracy: 0.82925\n",
      "Epoch [3/50], Val Loss: 0.3381 \n"
     ]
    },
    {
     "name": "stderr",
     "output_type": "stream",
     "text": [
      "Training loss: 0.3004:  39%|████████████████████████████▌                                            | 141/360 [00:08<00:13, 16.29it/s]\n"
     ]
    },
    {
     "name": "stdout",
     "output_type": "stream",
     "text": [
      "Epoch [4/50], Train Loss: 0.3536 \n"
     ]
    },
    {
     "name": "stderr",
     "output_type": "stream",
     "text": [
      "Validation loss: 0.2974:  40%|█████████████████████████████▏                                           | 16/40 [00:00<00:00, 24.85it/s]\n"
     ]
    },
    {
     "name": "stdout",
     "output_type": "stream",
     "text": [
      "val accuracy: 0.8495\n",
      "Epoch [4/50], Val Loss: 0.3139 \n",
      "new best model\n"
     ]
    },
    {
     "name": "stderr",
     "output_type": "stream",
     "text": [
      "Training loss: 0.3021:  39%|████████████████████████████▌                                            | 141/360 [00:08<00:13, 16.06it/s]\n"
     ]
    },
    {
     "name": "stdout",
     "output_type": "stream",
     "text": [
      "Epoch [5/50], Train Loss: 0.3517 \n"
     ]
    },
    {
     "name": "stderr",
     "output_type": "stream",
     "text": [
      "Validation loss: 0.3360:  40%|█████████████████████████████▏                                           | 16/40 [00:00<00:00, 28.03it/s]\n"
     ]
    },
    {
     "name": "stdout",
     "output_type": "stream",
     "text": [
      "val accuracy: 0.84125\n",
      "Epoch [5/50], Val Loss: 0.3312 \n"
     ]
    },
    {
     "name": "stderr",
     "output_type": "stream",
     "text": [
      "Training loss: 0.2759:  39%|████████████████████████████▌                                            | 141/360 [00:08<00:13, 16.14it/s]\n"
     ]
    },
    {
     "name": "stdout",
     "output_type": "stream",
     "text": [
      "Epoch [6/50], Train Loss: 0.3588 \n"
     ]
    },
    {
     "name": "stderr",
     "output_type": "stream",
     "text": [
      "Validation loss: 0.2706:  40%|█████████████████████████████▏                                           | 16/40 [00:00<00:00, 29.81it/s]\n"
     ]
    },
    {
     "name": "stdout",
     "output_type": "stream",
     "text": [
      "val accuracy: 0.83375\n",
      "Epoch [6/50], Val Loss: 0.3277 \n"
     ]
    },
    {
     "name": "stderr",
     "output_type": "stream",
     "text": [
      "Training loss: 0.4506:  39%|████████████████████████████▌                                            | 141/360 [00:08<00:13, 16.21it/s]\n"
     ]
    },
    {
     "name": "stdout",
     "output_type": "stream",
     "text": [
      "Epoch [7/50], Train Loss: 0.3414 \n"
     ]
    },
    {
     "name": "stderr",
     "output_type": "stream",
     "text": [
      "Validation loss: 0.3069:  40%|█████████████████████████████▏                                           | 16/40 [00:00<00:00, 28.38it/s]\n"
     ]
    },
    {
     "name": "stdout",
     "output_type": "stream",
     "text": [
      "val accuracy: 0.8255\n",
      "Epoch [7/50], Val Loss: 0.3189 \n"
     ]
    },
    {
     "name": "stderr",
     "output_type": "stream",
     "text": [
      "Training loss: 0.3219:  39%|████████████████████████████▌                                            | 141/360 [00:08<00:13, 16.21it/s]\n"
     ]
    },
    {
     "name": "stdout",
     "output_type": "stream",
     "text": [
      "Epoch [8/50], Train Loss: 0.3410 \n"
     ]
    },
    {
     "name": "stderr",
     "output_type": "stream",
     "text": [
      "Validation loss: 0.3074:  40%|█████████████████████████████▏                                           | 16/40 [00:00<00:00, 29.29it/s]\n"
     ]
    },
    {
     "name": "stdout",
     "output_type": "stream",
     "text": [
      "val accuracy: 0.855\n",
      "Epoch [8/50], Val Loss: 0.3165 \n",
      "new best model\n"
     ]
    },
    {
     "name": "stderr",
     "output_type": "stream",
     "text": [
      "Training loss: 0.3421:  39%|████████████████████████████▌                                            | 141/360 [00:08<00:13, 15.99it/s]\n"
     ]
    },
    {
     "name": "stdout",
     "output_type": "stream",
     "text": [
      "Epoch [9/50], Train Loss: 0.3391 \n"
     ]
    },
    {
     "name": "stderr",
     "output_type": "stream",
     "text": [
      "Validation loss: 0.2387:  40%|█████████████████████████████▏                                           | 16/40 [00:00<00:00, 33.34it/s]\n"
     ]
    },
    {
     "name": "stdout",
     "output_type": "stream",
     "text": [
      "val accuracy: 0.84\n",
      "Epoch [9/50], Val Loss: 0.3103 \n"
     ]
    },
    {
     "name": "stderr",
     "output_type": "stream",
     "text": [
      "Training loss: 0.3795:  39%|████████████████████████████▌                                            | 141/360 [00:08<00:13, 16.24it/s]\n"
     ]
    },
    {
     "name": "stdout",
     "output_type": "stream",
     "text": [
      "Epoch [10/50], Train Loss: 0.3304 \n"
     ]
    },
    {
     "name": "stderr",
     "output_type": "stream",
     "text": [
      "Validation loss: 0.3156:  40%|█████████████████████████████▏                                           | 16/40 [00:00<00:00, 30.19it/s]\n"
     ]
    },
    {
     "name": "stdout",
     "output_type": "stream",
     "text": [
      "val accuracy: 0.8495\n",
      "Epoch [10/50], Val Loss: 0.3231 \n"
     ]
    },
    {
     "name": "stderr",
     "output_type": "stream",
     "text": [
      "Training loss: 0.3354:  39%|████████████████████████████▌                                            | 141/360 [00:08<00:13, 16.43it/s]\n"
     ]
    },
    {
     "name": "stdout",
     "output_type": "stream",
     "text": [
      "Epoch [11/50], Train Loss: 0.3507 \n"
     ]
    },
    {
     "name": "stderr",
     "output_type": "stream",
     "text": [
      "Validation loss: 0.3329:  40%|█████████████████████████████▏                                           | 16/40 [00:00<00:00, 29.53it/s]\n"
     ]
    },
    {
     "name": "stdout",
     "output_type": "stream",
     "text": [
      "val accuracy: 0.812\n",
      "Epoch [11/50], Val Loss: 0.3403 \n"
     ]
    },
    {
     "name": "stderr",
     "output_type": "stream",
     "text": [
      "Training loss: 0.2841:  39%|████████████████████████████▌                                            | 141/360 [00:08<00:13, 16.16it/s]\n"
     ]
    },
    {
     "name": "stdout",
     "output_type": "stream",
     "text": [
      "Epoch [12/50], Train Loss: 0.3503 \n"
     ]
    },
    {
     "name": "stderr",
     "output_type": "stream",
     "text": [
      "Validation loss: 0.2734:  40%|█████████████████████████████▏                                           | 16/40 [00:00<00:00, 33.46it/s]\n"
     ]
    },
    {
     "name": "stdout",
     "output_type": "stream",
     "text": [
      "val accuracy: 0.8265\n",
      "Epoch [12/50], Val Loss: 0.3170 \n"
     ]
    },
    {
     "name": "stderr",
     "output_type": "stream",
     "text": [
      "Training loss: 0.3166:  39%|████████████████████████████▌                                            | 141/360 [00:08<00:13, 16.38it/s]\n"
     ]
    },
    {
     "name": "stdout",
     "output_type": "stream",
     "text": [
      "Epoch [13/50], Train Loss: 0.3293 \n"
     ]
    },
    {
     "name": "stderr",
     "output_type": "stream",
     "text": [
      "Validation loss: 0.2736:  40%|█████████████████████████████▏                                           | 16/40 [00:00<00:00, 25.55it/s]\n"
     ]
    },
    {
     "name": "stdout",
     "output_type": "stream",
     "text": [
      "val accuracy: 0.8425\n",
      "Epoch [13/50], Val Loss: 0.3069 \n"
     ]
    },
    {
     "name": "stderr",
     "output_type": "stream",
     "text": [
      "Training loss: 0.3446:  39%|████████████████████████████▌                                            | 141/360 [00:08<00:13, 15.94it/s]\n"
     ]
    },
    {
     "name": "stdout",
     "output_type": "stream",
     "text": [
      "Epoch [14/50], Train Loss: 0.3321 \n"
     ]
    },
    {
     "name": "stderr",
     "output_type": "stream",
     "text": [
      "Validation loss: 0.4078:  40%|█████████████████████████████▏                                           | 16/40 [00:00<00:00, 33.08it/s]\n"
     ]
    },
    {
     "name": "stdout",
     "output_type": "stream",
     "text": [
      "val accuracy: 0.77475\n",
      "Epoch [14/50], Val Loss: 0.4327 \n"
     ]
    },
    {
     "name": "stderr",
     "output_type": "stream",
     "text": [
      "Training loss: 0.3583:  39%|████████████████████████████▌                                            | 141/360 [00:08<00:13, 16.24it/s]\n"
     ]
    },
    {
     "name": "stdout",
     "output_type": "stream",
     "text": [
      "Epoch [15/50], Train Loss: 0.3435 \n"
     ]
    },
    {
     "name": "stderr",
     "output_type": "stream",
     "text": [
      "Validation loss: 0.3551:  40%|█████████████████████████████▏                                           | 16/40 [00:00<00:00, 25.38it/s]\n"
     ]
    },
    {
     "name": "stdout",
     "output_type": "stream",
     "text": [
      "val accuracy: 0.857\n",
      "Epoch [15/50], Val Loss: 0.3168 \n",
      "new best model\n"
     ]
    },
    {
     "name": "stderr",
     "output_type": "stream",
     "text": [
      "Training loss: 0.4508:  39%|████████████████████████████▌                                            | 141/360 [00:08<00:13, 16.03it/s]\n"
     ]
    },
    {
     "name": "stdout",
     "output_type": "stream",
     "text": [
      "Epoch [16/50], Train Loss: 0.3345 \n"
     ]
    },
    {
     "name": "stderr",
     "output_type": "stream",
     "text": [
      "Validation loss: 0.3762:  40%|█████████████████████████████▏                                           | 16/40 [00:00<00:00, 28.87it/s]\n"
     ]
    },
    {
     "name": "stdout",
     "output_type": "stream",
     "text": [
      "val accuracy: 0.8405\n",
      "Epoch [16/50], Val Loss: 0.3469 \n"
     ]
    },
    {
     "name": "stderr",
     "output_type": "stream",
     "text": [
      "Training loss: 0.3310:  39%|████████████████████████████▌                                            | 141/360 [00:08<00:13, 16.00it/s]\n"
     ]
    },
    {
     "name": "stdout",
     "output_type": "stream",
     "text": [
      "Epoch [17/50], Train Loss: 0.3447 \n"
     ]
    },
    {
     "name": "stderr",
     "output_type": "stream",
     "text": [
      "Validation loss: 0.2889:  40%|█████████████████████████████▏                                           | 16/40 [00:00<00:00, 27.85it/s]\n"
     ]
    },
    {
     "name": "stdout",
     "output_type": "stream",
     "text": [
      "val accuracy: 0.85025\n",
      "Epoch [17/50], Val Loss: 0.3122 \n"
     ]
    },
    {
     "name": "stderr",
     "output_type": "stream",
     "text": [
      "Training loss: 0.5376:  39%|████████████████████████████▌                                            | 141/360 [00:08<00:13, 16.11it/s]\n"
     ]
    },
    {
     "name": "stdout",
     "output_type": "stream",
     "text": [
      "Epoch [18/50], Train Loss: 0.3332 \n"
     ]
    },
    {
     "name": "stderr",
     "output_type": "stream",
     "text": [
      "Validation loss: 0.2825:  40%|█████████████████████████████▏                                           | 16/40 [00:00<00:00, 27.91it/s]\n"
     ]
    },
    {
     "name": "stdout",
     "output_type": "stream",
     "text": [
      "val accuracy: 0.84725\n",
      "Epoch [18/50], Val Loss: 0.3218 \n"
     ]
    },
    {
     "name": "stderr",
     "output_type": "stream",
     "text": [
      "Training loss: 0.3568:  39%|████████████████████████████▌                                            | 141/360 [00:08<00:13, 16.14it/s]\n"
     ]
    },
    {
     "name": "stdout",
     "output_type": "stream",
     "text": [
      "Epoch [19/50], Train Loss: 0.3393 \n"
     ]
    },
    {
     "name": "stderr",
     "output_type": "stream",
     "text": [
      "Validation loss: 0.2993:  40%|█████████████████████████████▏                                           | 16/40 [00:00<00:00, 25.06it/s]\n"
     ]
    },
    {
     "name": "stdout",
     "output_type": "stream",
     "text": [
      "val accuracy: 0.83275\n",
      "Epoch [19/50], Val Loss: 0.3170 \n"
     ]
    },
    {
     "name": "stderr",
     "output_type": "stream",
     "text": [
      "Training loss: 0.3707:  39%|████████████████████████████▌                                            | 141/360 [00:08<00:13, 16.00it/s]\n"
     ]
    },
    {
     "name": "stdout",
     "output_type": "stream",
     "text": [
      "Epoch [20/50], Train Loss: 0.3252 \n"
     ]
    },
    {
     "name": "stderr",
     "output_type": "stream",
     "text": [
      "Validation loss: 0.2326:  40%|█████████████████████████████▏                                           | 16/40 [00:00<00:00, 28.99it/s]\n"
     ]
    },
    {
     "name": "stdout",
     "output_type": "stream",
     "text": [
      "val accuracy: 0.83775\n",
      "Epoch [20/50], Val Loss: 0.3224 \n"
     ]
    },
    {
     "name": "stderr",
     "output_type": "stream",
     "text": [
      "Training loss: 0.4033:  39%|████████████████████████████▌                                            | 141/360 [00:08<00:13, 16.27it/s]\n"
     ]
    },
    {
     "name": "stdout",
     "output_type": "stream",
     "text": [
      "Epoch [21/50], Train Loss: 0.3284 \n"
     ]
    },
    {
     "name": "stderr",
     "output_type": "stream",
     "text": [
      "Validation loss: 0.3771:  40%|█████████████████████████████▏                                           | 16/40 [00:00<00:01, 23.91it/s]\n"
     ]
    },
    {
     "name": "stdout",
     "output_type": "stream",
     "text": [
      "val accuracy: 0.84\n",
      "Epoch [21/50], Val Loss: 0.3197 \n"
     ]
    },
    {
     "name": "stderr",
     "output_type": "stream",
     "text": [
      "Training loss: 0.3217:  39%|████████████████████████████▌                                            | 141/360 [00:08<00:13, 16.39it/s]\n"
     ]
    },
    {
     "name": "stdout",
     "output_type": "stream",
     "text": [
      "Epoch [22/50], Train Loss: 0.3352 \n"
     ]
    },
    {
     "name": "stderr",
     "output_type": "stream",
     "text": [
      "Validation loss: 0.4068:  40%|█████████████████████████████▏                                           | 16/40 [00:00<00:00, 27.00it/s]\n"
     ]
    },
    {
     "name": "stdout",
     "output_type": "stream",
     "text": [
      "val accuracy: 0.81825\n",
      "Epoch [22/50], Val Loss: 0.3350 \n"
     ]
    },
    {
     "name": "stderr",
     "output_type": "stream",
     "text": [
      "Training loss: 0.3611:  39%|████████████████████████████▌                                            | 141/360 [00:08<00:13, 16.48it/s]\n"
     ]
    },
    {
     "name": "stdout",
     "output_type": "stream",
     "text": [
      "Epoch [23/50], Train Loss: 0.3259 \n"
     ]
    },
    {
     "name": "stderr",
     "output_type": "stream",
     "text": [
      "Validation loss: 0.2849:  40%|█████████████████████████████▏                                           | 16/40 [00:00<00:00, 25.38it/s]\n"
     ]
    },
    {
     "name": "stdout",
     "output_type": "stream",
     "text": [
      "val accuracy: 0.811\n",
      "Epoch [23/50], Val Loss: 0.3551 \n"
     ]
    },
    {
     "name": "stderr",
     "output_type": "stream",
     "text": [
      "Training loss: 0.3182:  39%|████████████████████████████▌                                            | 141/360 [00:08<00:13, 16.57it/s]\n"
     ]
    },
    {
     "name": "stdout",
     "output_type": "stream",
     "text": [
      "Epoch [24/50], Train Loss: 0.3212 \n"
     ]
    },
    {
     "name": "stderr",
     "output_type": "stream",
     "text": [
      "Validation loss: 0.2806:  40%|█████████████████████████████▏                                           | 16/40 [00:00<00:00, 25.38it/s]\n"
     ]
    },
    {
     "name": "stdout",
     "output_type": "stream",
     "text": [
      "val accuracy: 0.8385\n",
      "Epoch [24/50], Val Loss: 0.3131 \n"
     ]
    },
    {
     "name": "stderr",
     "output_type": "stream",
     "text": [
      "Training loss: 0.3173:  39%|████████████████████████████▌                                            | 141/360 [00:08<00:13, 16.23it/s]\n"
     ]
    },
    {
     "name": "stdout",
     "output_type": "stream",
     "text": [
      "Epoch [25/50], Train Loss: 0.4222 \n"
     ]
    },
    {
     "name": "stderr",
     "output_type": "stream",
     "text": [
      "Validation loss: 0.4066:  40%|█████████████████████████████▏                                           | 16/40 [00:00<00:00, 33.14it/s]\n"
     ]
    },
    {
     "name": "stdout",
     "output_type": "stream",
     "text": [
      "val accuracy: 0.83625\n",
      "Epoch [25/50], Val Loss: 0.3684 \n"
     ]
    },
    {
     "name": "stderr",
     "output_type": "stream",
     "text": [
      "Training loss: 0.3397:  39%|████████████████████████████▌                                            | 141/360 [00:08<00:13, 15.96it/s]\n"
     ]
    },
    {
     "name": "stdout",
     "output_type": "stream",
     "text": [
      "Epoch [26/50], Train Loss: 0.3387 \n"
     ]
    },
    {
     "name": "stderr",
     "output_type": "stream",
     "text": [
      "Validation loss: 0.3167:  40%|█████████████████████████████▏                                           | 16/40 [00:00<00:00, 33.67it/s]\n"
     ]
    },
    {
     "name": "stdout",
     "output_type": "stream",
     "text": [
      "val accuracy: 0.77475\n",
      "Epoch [26/50], Val Loss: 0.3811 \n"
     ]
    },
    {
     "name": "stderr",
     "output_type": "stream",
     "text": [
      "Training loss: 0.3518:  39%|████████████████████████████▌                                            | 141/360 [00:08<00:13, 16.01it/s]\n"
     ]
    },
    {
     "name": "stdout",
     "output_type": "stream",
     "text": [
      "Epoch [27/50], Train Loss: 0.3292 \n"
     ]
    },
    {
     "name": "stderr",
     "output_type": "stream",
     "text": [
      "Validation loss: 0.3424:  40%|█████████████████████████████▏                                           | 16/40 [00:00<00:00, 32.57it/s]\n"
     ]
    },
    {
     "name": "stdout",
     "output_type": "stream",
     "text": [
      "val accuracy: 0.84775\n",
      "Epoch [27/50], Val Loss: 0.3110 \n"
     ]
    },
    {
     "name": "stderr",
     "output_type": "stream",
     "text": [
      "Training loss: 0.3168:  39%|████████████████████████████▌                                            | 141/360 [00:08<00:13, 15.74it/s]\n"
     ]
    },
    {
     "name": "stdout",
     "output_type": "stream",
     "text": [
      "Epoch [28/50], Train Loss: 0.3175 \n"
     ]
    },
    {
     "name": "stderr",
     "output_type": "stream",
     "text": [
      "Validation loss: 0.2869:  40%|█████████████████████████████▏                                           | 16/40 [00:00<00:00, 33.48it/s]\n"
     ]
    },
    {
     "name": "stdout",
     "output_type": "stream",
     "text": [
      "val accuracy: 0.8575\n",
      "Epoch [28/50], Val Loss: 0.3052 \n",
      "new best model\n"
     ]
    },
    {
     "name": "stderr",
     "output_type": "stream",
     "text": [
      "Training loss: 0.3689:  39%|████████████████████████████▌                                            | 141/360 [00:08<00:13, 16.14it/s]\n"
     ]
    },
    {
     "name": "stdout",
     "output_type": "stream",
     "text": [
      "Epoch [29/50], Train Loss: 0.3164 \n"
     ]
    },
    {
     "name": "stderr",
     "output_type": "stream",
     "text": [
      "Validation loss: 0.3410:  40%|█████████████████████████████▏                                           | 16/40 [00:00<00:00, 28.15it/s]\n"
     ]
    },
    {
     "name": "stdout",
     "output_type": "stream",
     "text": [
      "val accuracy: 0.84075\n",
      "Epoch [29/50], Val Loss: 0.3163 \n"
     ]
    },
    {
     "name": "stderr",
     "output_type": "stream",
     "text": [
      "Training loss: 0.3045:  39%|████████████████████████████▌                                            | 141/360 [00:08<00:13, 16.19it/s]\n"
     ]
    },
    {
     "name": "stdout",
     "output_type": "stream",
     "text": [
      "Epoch [30/50], Train Loss: 0.3214 \n"
     ]
    },
    {
     "name": "stderr",
     "output_type": "stream",
     "text": [
      "Validation loss: 0.3004:  40%|█████████████████████████████▏                                           | 16/40 [00:00<00:00, 30.57it/s]\n"
     ]
    },
    {
     "name": "stdout",
     "output_type": "stream",
     "text": [
      "val accuracy: 0.8505\n",
      "Epoch [30/50], Val Loss: 0.3183 \n"
     ]
    },
    {
     "name": "stderr",
     "output_type": "stream",
     "text": [
      "Training loss: 0.2895:  39%|████████████████████████████▌                                            | 141/360 [00:08<00:13, 16.23it/s]\n"
     ]
    },
    {
     "name": "stdout",
     "output_type": "stream",
     "text": [
      "Epoch [31/50], Train Loss: 0.3602 \n"
     ]
    },
    {
     "name": "stderr",
     "output_type": "stream",
     "text": [
      "Validation loss: 0.2577:  40%|█████████████████████████████▏                                           | 16/40 [00:00<00:00, 29.07it/s]\n"
     ]
    },
    {
     "name": "stdout",
     "output_type": "stream",
     "text": [
      "val accuracy: 0.854\n",
      "Epoch [31/50], Val Loss: 0.3032 \n"
     ]
    },
    {
     "name": "stderr",
     "output_type": "stream",
     "text": [
      "Training loss: 0.2688:  39%|████████████████████████████▌                                            | 141/360 [00:08<00:13, 16.07it/s]\n"
     ]
    },
    {
     "name": "stdout",
     "output_type": "stream",
     "text": [
      "Epoch [32/50], Train Loss: 0.3153 \n"
     ]
    },
    {
     "name": "stderr",
     "output_type": "stream",
     "text": [
      "Validation loss: 0.2671:  40%|█████████████████████████████▏                                           | 16/40 [00:00<00:00, 28.44it/s]\n"
     ]
    },
    {
     "name": "stdout",
     "output_type": "stream",
     "text": [
      "val accuracy: 0.84975\n",
      "Epoch [32/50], Val Loss: 0.3044 \n"
     ]
    },
    {
     "name": "stderr",
     "output_type": "stream",
     "text": [
      "Training loss: 0.2870:  39%|████████████████████████████▌                                            | 141/360 [00:08<00:13, 15.90it/s]\n"
     ]
    },
    {
     "name": "stdout",
     "output_type": "stream",
     "text": [
      "Epoch [33/50], Train Loss: 0.3102 \n"
     ]
    },
    {
     "name": "stderr",
     "output_type": "stream",
     "text": [
      "Validation loss: 0.3382:  40%|█████████████████████████████▏                                           | 16/40 [00:00<00:00, 33.46it/s]\n"
     ]
    },
    {
     "name": "stdout",
     "output_type": "stream",
     "text": [
      "val accuracy: 0.85675\n",
      "Epoch [33/50], Val Loss: 0.2957 \n"
     ]
    },
    {
     "name": "stderr",
     "output_type": "stream",
     "text": [
      "Training loss: 0.3199:  39%|████████████████████████████▌                                            | 141/360 [00:08<00:13, 16.28it/s]\n"
     ]
    },
    {
     "name": "stdout",
     "output_type": "stream",
     "text": [
      "Epoch [34/50], Train Loss: 0.3195 \n"
     ]
    },
    {
     "name": "stderr",
     "output_type": "stream",
     "text": [
      "Validation loss: 0.3656:  40%|█████████████████████████████▏                                           | 16/40 [00:00<00:00, 29.82it/s]\n"
     ]
    },
    {
     "name": "stdout",
     "output_type": "stream",
     "text": [
      "val accuracy: 0.85325\n",
      "Epoch [34/50], Val Loss: 0.2966 \n"
     ]
    },
    {
     "name": "stderr",
     "output_type": "stream",
     "text": [
      "Training loss: 0.2933:  39%|████████████████████████████▌                                            | 141/360 [00:09<00:14, 15.57it/s]\n"
     ]
    },
    {
     "name": "stdout",
     "output_type": "stream",
     "text": [
      "Epoch [35/50], Train Loss: 0.3101 \n"
     ]
    },
    {
     "name": "stderr",
     "output_type": "stream",
     "text": [
      "Validation loss: 0.3070:  40%|█████████████████████████████▏                                           | 16/40 [00:00<00:00, 32.69it/s]\n"
     ]
    },
    {
     "name": "stdout",
     "output_type": "stream",
     "text": [
      "val accuracy: 0.861\n",
      "Epoch [35/50], Val Loss: 0.2995 \n",
      "new best model\n"
     ]
    },
    {
     "name": "stderr",
     "output_type": "stream",
     "text": [
      "Training loss: 0.3231:  39%|████████████████████████████▌                                            | 141/360 [00:08<00:13, 16.08it/s]\n"
     ]
    },
    {
     "name": "stdout",
     "output_type": "stream",
     "text": [
      "Epoch [36/50], Train Loss: 0.3114 \n"
     ]
    },
    {
     "name": "stderr",
     "output_type": "stream",
     "text": [
      "Validation loss: 0.2728:  40%|█████████████████████████████▏                                           | 16/40 [00:00<00:00, 27.97it/s]\n"
     ]
    },
    {
     "name": "stdout",
     "output_type": "stream",
     "text": [
      "val accuracy: 0.86075\n",
      "Epoch [36/50], Val Loss: 0.2944 \n"
     ]
    },
    {
     "name": "stderr",
     "output_type": "stream",
     "text": [
      "Training loss: 0.3088:  39%|████████████████████████████▌                                            | 141/360 [00:08<00:13, 16.19it/s]\n"
     ]
    },
    {
     "name": "stdout",
     "output_type": "stream",
     "text": [
      "Epoch [37/50], Train Loss: 0.3137 \n"
     ]
    },
    {
     "name": "stderr",
     "output_type": "stream",
     "text": [
      "Validation loss: 0.3448:  40%|█████████████████████████████▏                                           | 16/40 [00:00<00:00, 33.05it/s]\n"
     ]
    },
    {
     "name": "stdout",
     "output_type": "stream",
     "text": [
      "val accuracy: 0.85425\n",
      "Epoch [37/50], Val Loss: 0.2982 \n"
     ]
    },
    {
     "name": "stderr",
     "output_type": "stream",
     "text": [
      "Training loss: 0.4520:  39%|████████████████████████████▌                                            | 141/360 [00:08<00:13, 16.13it/s]\n"
     ]
    },
    {
     "name": "stdout",
     "output_type": "stream",
     "text": [
      "Epoch [38/50], Train Loss: 0.6018 \n"
     ]
    },
    {
     "name": "stderr",
     "output_type": "stream",
     "text": [
      "Validation loss: 0.4888:  40%|█████████████████████████████▏                                           | 16/40 [00:00<00:00, 28.89it/s]\n"
     ]
    },
    {
     "name": "stdout",
     "output_type": "stream",
     "text": [
      "val accuracy: 0.72025\n",
      "Epoch [38/50], Val Loss: 0.5114 \n"
     ]
    },
    {
     "name": "stderr",
     "output_type": "stream",
     "text": [
      "Training loss: 0.4985:  39%|████████████████████████████▌                                            | 141/360 [00:08<00:13, 16.31it/s]\n"
     ]
    },
    {
     "name": "stdout",
     "output_type": "stream",
     "text": [
      "Epoch [39/50], Train Loss: 0.5415 \n"
     ]
    },
    {
     "name": "stderr",
     "output_type": "stream",
     "text": [
      "Validation loss: 0.4880:  40%|█████████████████████████████▏                                           | 16/40 [00:00<00:00, 28.86it/s]\n"
     ]
    },
    {
     "name": "stdout",
     "output_type": "stream",
     "text": [
      "val accuracy: 0.75325\n",
      "Epoch [39/50], Val Loss: 0.4580 \n"
     ]
    },
    {
     "name": "stderr",
     "output_type": "stream",
     "text": [
      "Training loss: 0.9811:  39%|████████████████████████████▌                                            | 141/360 [00:08<00:13, 16.11it/s]\n"
     ]
    },
    {
     "name": "stdout",
     "output_type": "stream",
     "text": [
      "Epoch [40/50], Train Loss: 4.5741 \n"
     ]
    },
    {
     "name": "stderr",
     "output_type": "stream",
     "text": [
      "Validation loss: 0.6668:  40%|█████████████████████████████▏                                           | 16/40 [00:00<00:00, 29.50it/s]\n"
     ]
    },
    {
     "name": "stdout",
     "output_type": "stream",
     "text": [
      "val accuracy: 0.6975\n",
      "Epoch [40/50], Val Loss: 0.7034 \n"
     ]
    },
    {
     "name": "stderr",
     "output_type": "stream",
     "text": [
      "Training loss: 0.6455:  39%|████████████████████████████▌                                            | 141/360 [00:08<00:13, 16.04it/s]\n"
     ]
    },
    {
     "name": "stdout",
     "output_type": "stream",
     "text": [
      "Epoch [41/50], Train Loss: 0.6918 \n"
     ]
    },
    {
     "name": "stderr",
     "output_type": "stream",
     "text": [
      "Validation loss: 0.5159:  40%|█████████████████████████████▏                                           | 16/40 [00:00<00:00, 33.15it/s]\n"
     ]
    },
    {
     "name": "stdout",
     "output_type": "stream",
     "text": [
      "val accuracy: 0.68175\n",
      "Epoch [41/50], Val Loss: 0.5886 \n"
     ]
    },
    {
     "name": "stderr",
     "output_type": "stream",
     "text": [
      "Training loss: 0.5876:  39%|████████████████████████████▌                                            | 141/360 [00:08<00:13, 16.07it/s]\n"
     ]
    },
    {
     "name": "stdout",
     "output_type": "stream",
     "text": [
      "Epoch [42/50], Train Loss: 0.6136 \n"
     ]
    },
    {
     "name": "stderr",
     "output_type": "stream",
     "text": [
      "Validation loss: 0.4883:  40%|█████████████████████████████▏                                           | 16/40 [00:00<00:00, 29.37it/s]\n"
     ]
    },
    {
     "name": "stdout",
     "output_type": "stream",
     "text": [
      "val accuracy: 0.69225\n",
      "Epoch [42/50], Val Loss: 0.5665 \n"
     ]
    },
    {
     "name": "stderr",
     "output_type": "stream",
     "text": [
      "Training loss: 0.5777:  39%|████████████████████████████▌                                            | 141/360 [00:08<00:13, 16.09it/s]\n"
     ]
    },
    {
     "name": "stdout",
     "output_type": "stream",
     "text": [
      "Epoch [43/50], Train Loss: 0.5933 \n"
     ]
    },
    {
     "name": "stderr",
     "output_type": "stream",
     "text": [
      "Validation loss: 0.5691:  40%|█████████████████████████████▏                                           | 16/40 [00:00<00:00, 32.43it/s]\n"
     ]
    },
    {
     "name": "stdout",
     "output_type": "stream",
     "text": [
      "val accuracy: 0.701\n",
      "Epoch [43/50], Val Loss: 0.5622 \n"
     ]
    },
    {
     "name": "stderr",
     "output_type": "stream",
     "text": [
      "Training loss: 0.7147:  39%|████████████████████████████▌                                            | 141/360 [00:08<00:13, 16.71it/s]\n"
     ]
    },
    {
     "name": "stdout",
     "output_type": "stream",
     "text": [
      "Epoch [44/50], Train Loss: 0.6559 \n"
     ]
    },
    {
     "name": "stderr",
     "output_type": "stream",
     "text": [
      "Validation loss: 0.5879:  40%|█████████████████████████████▏                                           | 16/40 [00:00<00:00, 26.23it/s]\n"
     ]
    },
    {
     "name": "stdout",
     "output_type": "stream",
     "text": [
      "val accuracy: 0.71025\n",
      "Epoch [44/50], Val Loss: 0.5617 \n"
     ]
    },
    {
     "name": "stderr",
     "output_type": "stream",
     "text": [
      "Training loss: 0.6173:  39%|████████████████████████████▌                                            | 141/360 [00:08<00:13, 16.04it/s]\n"
     ]
    },
    {
     "name": "stdout",
     "output_type": "stream",
     "text": [
      "Epoch [45/50], Train Loss: 0.5929 \n"
     ]
    },
    {
     "name": "stderr",
     "output_type": "stream",
     "text": [
      "Validation loss: 0.4876:  40%|█████████████████████████████▏                                           | 16/40 [00:00<00:00, 29.00it/s]\n"
     ]
    },
    {
     "name": "stdout",
     "output_type": "stream",
     "text": [
      "val accuracy: 0.69575\n",
      "Epoch [45/50], Val Loss: 0.5604 \n"
     ]
    },
    {
     "name": "stderr",
     "output_type": "stream",
     "text": [
      "Training loss: 0.6123:  39%|████████████████████████████▌                                            | 141/360 [00:08<00:13, 16.15it/s]\n"
     ]
    },
    {
     "name": "stdout",
     "output_type": "stream",
     "text": [
      "Epoch [46/50], Train Loss: 0.5801 \n"
     ]
    },
    {
     "name": "stderr",
     "output_type": "stream",
     "text": [
      "Validation loss: 0.5250:  40%|█████████████████████████████▏                                           | 16/40 [00:00<00:00, 28.86it/s]\n"
     ]
    },
    {
     "name": "stdout",
     "output_type": "stream",
     "text": [
      "val accuracy: 0.714\n",
      "Epoch [46/50], Val Loss: 0.5545 \n"
     ]
    },
    {
     "name": "stderr",
     "output_type": "stream",
     "text": [
      "Training loss: 0.5381:  39%|████████████████████████████▌                                            | 141/360 [00:08<00:13, 16.16it/s]\n"
     ]
    },
    {
     "name": "stdout",
     "output_type": "stream",
     "text": [
      "Epoch [47/50], Train Loss: 0.5738 \n"
     ]
    },
    {
     "name": "stderr",
     "output_type": "stream",
     "text": [
      "Validation loss: 0.4358:  40%|█████████████████████████████▏                                           | 16/40 [00:00<00:00, 27.66it/s]\n"
     ]
    },
    {
     "name": "stdout",
     "output_type": "stream",
     "text": [
      "val accuracy: 0.71\n",
      "Epoch [47/50], Val Loss: 0.5530 \n"
     ]
    },
    {
     "name": "stderr",
     "output_type": "stream",
     "text": [
      "Training loss: 0.5605:  39%|████████████████████████████▌                                            | 141/360 [00:08<00:13, 16.02it/s]\n"
     ]
    },
    {
     "name": "stdout",
     "output_type": "stream",
     "text": [
      "Epoch [48/50], Train Loss: 0.5675 \n"
     ]
    },
    {
     "name": "stderr",
     "output_type": "stream",
     "text": [
      "Validation loss: 0.5263:  40%|█████████████████████████████▏                                           | 16/40 [00:00<00:00, 30.81it/s]\n"
     ]
    },
    {
     "name": "stdout",
     "output_type": "stream",
     "text": [
      "val accuracy: 0.7085\n",
      "Epoch [48/50], Val Loss: 0.5501 \n"
     ]
    },
    {
     "name": "stderr",
     "output_type": "stream",
     "text": [
      "Training loss: 0.5776:  39%|████████████████████████████▌                                            | 141/360 [00:08<00:13, 16.20it/s]\n"
     ]
    },
    {
     "name": "stdout",
     "output_type": "stream",
     "text": [
      "Epoch [49/50], Train Loss: 0.5661 \n"
     ]
    },
    {
     "name": "stderr",
     "output_type": "stream",
     "text": [
      "Validation loss: 0.6054:  40%|█████████████████████████████▏                                           | 16/40 [00:00<00:00, 28.04it/s]\n"
     ]
    },
    {
     "name": "stdout",
     "output_type": "stream",
     "text": [
      "val accuracy: 0.7025\n",
      "Epoch [49/50], Val Loss: 0.5643 \n"
     ]
    },
    {
     "name": "stderr",
     "output_type": "stream",
     "text": [
      "Training loss: 0.5191:  39%|████████████████████████████▌                                            | 141/360 [00:08<00:13, 16.11it/s]\n"
     ]
    },
    {
     "name": "stdout",
     "output_type": "stream",
     "text": [
      "Epoch [50/50], Train Loss: 0.5701 \n"
     ]
    },
    {
     "name": "stderr",
     "output_type": "stream",
     "text": [
      "Validation loss: 0.5009:  40%|█████████████████████████████▏                                           | 16/40 [00:00<00:00, 28.55it/s]\n"
     ]
    },
    {
     "name": "stdout",
     "output_type": "stream",
     "text": [
      "val accuracy: 0.71025\n",
      "Epoch [50/50], Val Loss: 0.5411 \n"
     ]
    }
   ],
   "source": [
    "model = GrCN_2(hidden_channels=256).to(device)\n",
    "optimizer = torch.optim.Adam(model.parameters(), lr=0.001)\n",
    "criterion = torch.nn.CrossEntropyLoss()\n",
    "\n",
    "label = \"GraphConv_large\"\n",
    "outdir = \"/ssl-jet-vol-v2/ssi_2023_if_1/models\"\n",
    "model_loc = f\"{outdir}/trained_models/\"\n",
    "model_perf_loc = f\"{outdir}/model_performances/{label}\"\n",
    "\n",
    "train_its = int(len(train_data) / batch_size)\n",
    "val_its = int(len(val_data) / batch_size)\n",
    "\n",
    "train_losses = []\n",
    "val_losses = []\n",
    "val_accs = []\n",
    "val_acc_best = 0\n",
    "epochs = 50\n",
    "\n",
    "for epoch in range(epochs):\n",
    "    l_train_epoch = []\n",
    "    l_val_epoch = []\n",
    "    model.train()\n",
    "    pbar = tqdm.tqdm(train_loader, total=train_its)\n",
    "    for _, bb in enumerate(pbar):\n",
    "        bb.to(device)\n",
    "        out = model(bb.value, bb.edge_index, bb.batch)  # Perform a single forward pass.\n",
    "        loss = criterion(out, bb.y)\n",
    "\n",
    "        optimizer.zero_grad()\n",
    "        loss.backward()\n",
    "        optimizer.step()\n",
    "        loss = loss.detach().cpu().item()\n",
    "        l_train_epoch.append(loss)\n",
    "        pbar.set_description(f\"Training loss: {loss:.4f}\")\n",
    "\n",
    "    l_train = np.mean(l_train_epoch)\n",
    "    train_losses.append(l_train)\n",
    "    print(f\"Epoch [{epoch+1}/{epochs}], Train Loss: {l_train:.4f} \")\n",
    "\n",
    "    model.eval()\n",
    "    with torch.no_grad():\n",
    "        correct = 0\n",
    "        total = 0\n",
    "        pbar = tqdm.tqdm(val_loader, total=val_its)\n",
    "        for i, bb in enumerate(pbar):\n",
    "            bb.to(device)\n",
    "            out = model(bb.value, bb.edge_index, bb.batch)  # Perform a single forward pass.\n",
    "            loss = criterion(out, bb.y)\n",
    "            \n",
    "            \n",
    "            labels = bb.y\n",
    "            loss = loss.detach().cpu().item()\n",
    "            l_val_epoch.append(loss)\n",
    "            pbar.set_description(f\"Validation loss: {loss:.4f}\")\n",
    "            _, predicted = torch.max(out.data, 1)\n",
    "            total += labels.size(0)\n",
    "            correct += (predicted == labels).sum().item()\n",
    "            \n",
    "\n",
    "    val_acc = correct / total\n",
    "    print(f\"val accuracy: {val_acc}\")\n",
    "    val_accs.append(val_acc)\n",
    "\n",
    "    l_val = np.mean(l_val_epoch)\n",
    "    print(f\"Epoch [{epoch+1}/{epochs}], Val Loss: {l_val:.4f} \")\n",
    "    if val_acc > val_acc_best:\n",
    "        val_acc_best = val_acc\n",
    "        print(\"new best model\")\n",
    "        torch.save(model.state_dict(), f\"{model_loc}/GNN_{label}_best.pth\")\n",
    "    torch.save(model.state_dict(), f\"{model_loc}/GNN_{label}_last.pth\")\n",
    "    val_losses.append(l_val)\n",
    "\n"
   ]
  },
  {
   "cell_type": "code",
   "execution_count": 38,
   "id": "f42cd57a",
   "metadata": {
    "ExecuteTime": {
     "end_time": "2023-08-15T23:05:41.114937Z",
     "start_time": "2023-08-15T23:05:41.109565Z"
    }
   },
   "outputs": [],
   "source": [
    "def count_parameters(model):\n",
    "    return sum(p.numel() for p in model.parameters() if p.requires_grad)\n"
   ]
  },
  {
   "cell_type": "code",
   "execution_count": 39,
   "id": "8ed162a4",
   "metadata": {
    "ExecuteTime": {
     "end_time": "2023-08-15T23:05:42.421241Z",
     "start_time": "2023-08-15T23:05:42.404984Z"
    }
   },
   "outputs": [],
   "source": [
    "gcn = GCN(hidden_channels=128).to(device)\n",
    "grcn = GrCN(hidden_channels=128).to(device)"
   ]
  },
  {
   "cell_type": "code",
   "execution_count": 46,
   "id": "62cb8751",
   "metadata": {
    "ExecuteTime": {
     "end_time": "2023-08-15T23:09:12.337726Z",
     "start_time": "2023-08-15T23:09:12.329077Z"
    }
   },
   "outputs": [],
   "source": [
    "gatcn = GATCN(hidden_channels=128).to(device)"
   ]
  },
  {
   "cell_type": "code",
   "execution_count": 61,
   "id": "97ee613e",
   "metadata": {
    "ExecuteTime": {
     "end_time": "2023-08-15T23:34:20.885013Z",
     "start_time": "2023-08-15T23:34:19.219365Z"
    }
   },
   "outputs": [],
   "source": [
    "from src.models.CNN_dropout import CNN_dropout\n",
    "cnn = CNN_dropout().to(device=device)"
   ]
  },
  {
   "cell_type": "code",
   "execution_count": 69,
   "id": "e113c6cd",
   "metadata": {
    "ExecuteTime": {
     "end_time": "2023-08-15T23:37:55.507907Z",
     "start_time": "2023-08-15T23:37:55.497349Z"
    }
   },
   "outputs": [],
   "source": [
    "grcn2 = GrCN_2(hidden_channels=256).to(device)"
   ]
  },
  {
   "cell_type": "code",
   "execution_count": 70,
   "id": "50694aab",
   "metadata": {
    "ExecuteTime": {
     "end_time": "2023-08-15T23:38:20.502951Z",
     "start_time": "2023-08-15T23:38:20.499207Z"
    }
   },
   "outputs": [
    {
     "name": "stdout",
     "output_type": "stream",
     "text": [
      "The GCN model has 33,796 trainable parameters.\n",
      "The GrCN model has 66,692 trainable parameters.\n",
      "The GATCN model has 68,100 trainable parameters.\n",
      "The CNN model has 37,976,650 trainable parameters.\n",
      "The large GrCN model has 329,860 trainable parameters.\n"
     ]
    }
   ],
   "source": [
    "print(f\"The GCN model has {count_parameters(gcn):,} trainable parameters.\")\n",
    "print(f\"The GrCN model has {count_parameters(grcn):,} trainable parameters.\")\n",
    "print(f\"The GATCN model has {count_parameters(gatcn):,} trainable parameters.\")\n",
    "print(f\"The CNN model has {count_parameters(cnn):,} trainable parameters.\")\n",
    "print(f\"The large GrCN model has {count_parameters(grcn2):,} trainable parameters.\")"
   ]
  },
  {
   "cell_type": "code",
   "execution_count": 72,
   "id": "9d099ac1",
   "metadata": {
    "ExecuteTime": {
     "end_time": "2023-08-15T23:50:43.116118Z",
     "start_time": "2023-08-15T23:50:42.570622Z"
    }
   },
   "outputs": [],
   "source": [
    "import os\n",
    "os.system(\n",
    "        f\"mkdir -p {model_loc} {model_perf_loc}\"\n",
    "    )  # -p: create parent dirs if needed, exist_ok\n",
    "# after training, save the losses and accuracies\n",
    "np.save(f\"{model_perf_loc}/train_losses.npy\", np.array(train_losses))\n",
    "np.save(f\"{model_perf_loc}/val_losses.npy\", np.array(val_losses))\n",
    "np.save(f\"{model_perf_loc}/val_accs.npy\", np.array(val_accs))"
   ]
  },
  {
   "cell_type": "code",
   "execution_count": 73,
   "id": "53e48c55",
   "metadata": {
    "ExecuteTime": {
     "end_time": "2023-08-15T23:50:45.610008Z",
     "start_time": "2023-08-15T23:50:45.604945Z"
    }
   },
   "outputs": [
    {
     "data": {
      "text/plain": [
       "34"
      ]
     },
     "execution_count": 73,
     "metadata": {},
     "output_type": "execute_result"
    }
   ],
   "source": [
    "np.argmax(val_accs)"
   ]
  },
  {
   "cell_type": "code",
   "execution_count": 76,
   "id": "37b9e99f",
   "metadata": {
    "ExecuteTime": {
     "end_time": "2023-08-15T23:52:42.295937Z",
     "start_time": "2023-08-15T23:52:36.287850Z"
    }
   },
   "outputs": [
    {
     "data": {
      "image/png": "[encoded data removed]",
      "text/plain": [
       "<Figure size 800x600 with 1 Axes>"
      ]
     },
     "metadata": {},
     "output_type": "display_data"
    }
   ],
   "source": [
    "plt.plot(train_losses)\n",
    "plt.plot(val_losses)\n",
    "plt.plot(val_accs)\n",
    "plt.legend([\"train loss\", \"val loss\", \"val accuracy\"])\n",
    "plt.title(label)\n",
    "plt.semilogy()\n",
    "plt.savefig(f\"{label}_losses\")"
   ]
  },
  {
   "cell_type": "code",
   "execution_count": 75,
   "id": "e812154f",
   "metadata": {
    "ExecuteTime": {
     "end_time": "2023-08-15T23:52:06.427815Z",
     "start_time": "2023-08-15T23:52:06.288178Z"
    }
   },
   "outputs": [
    {
     "data": {
      "text/plain": [
       "[<matplotlib.lines.Line2D at 0x7f10781ad9f0>]"
      ]
     },
     "execution_count": 75,
     "metadata": {},
     "output_type": "execute_result"
    },
    {
     "data": {
      "image/png": "[encoded data removed]",
      "text/plain": [
       "<Figure size 800x600 with 1 Axes>"
      ]
     },
     "metadata": {},
     "output_type": "display_data"
    }
   ],
   "source": [
    "plt.plot(val_accs)"
   ]
  },
  {
   "cell_type": "code",
   "execution_count": null,
   "id": "595e1a91",
   "metadata": {},
   "outputs": [],
   "source": []
  }
 ],
 "metadata": {
  "kernelspec": {
   "display_name": "Python 3 (ipykernel)",
   "language": "python",
   "name": "python3"
  },
  "language_info": {
   "codemirror_mode": {
    "name": "ipython",
    "version": 3
   },
   "file_extension": ".py",
   "mimetype": "text/x-python",
   "name": "python",
   "nbconvert_exporter": "python",
   "pygments_lexer": "ipython3",
   "version": "3.10.6"
  }
 },
 "nbformat": 4,
 "nbformat_minor": 5
}
